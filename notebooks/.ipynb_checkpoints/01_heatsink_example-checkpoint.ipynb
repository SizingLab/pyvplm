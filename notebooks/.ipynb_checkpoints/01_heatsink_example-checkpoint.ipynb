{
 "cells": [
  {
   "cell_type": "markdown",
   "metadata": {
    "slideshow": {
     "slide_type": "slide"
    }
   },
   "source": [
    "# 01-HEATSINK EXAMPLE<img src=\"logo.png\" style=\"float:right; max-width: 60px; display: inline\" alt=\"logo\" /></a>"
   ]
  },
  {
   "cell_type": "markdown",
   "metadata": {
    "slideshow": {
     "slide_type": "slide"
    }
   },
   "source": [
    "# Sizing code of an inductor with surrogate models\n",
    "*Originally written by Marc Budinger, INSA Toulouse, France*<br>\n",
    "*Adapted using SizingLab tool*"
   ]
  },
  {
   "cell_type": "markdown",
   "metadata": {},
   "source": [
    "The previous study showed some shortcomings such as not taking into account the thermal and a limitation on the dimensions of the air gap. We will see here how to set up surrogate models from thermal or magnetic finite element simulations.  \n",
    "  "
   ]
  },
  {
   "cell_type": "markdown",
   "metadata": {},
   "source": [
    "## Subject introduction\n",
    "\n",
    "The [WATT system](http://www.pvi.fr/wattsystem-watt-system,172.html) is a solution developped by PVI society for electric public transport using specific bus and infrastructure. Indeed the solution relies on:\n",
    "\n",
    "![BoostCharge](./01_heatsink_example/BoostCharge.png)\n",
    "\n",
    "- Buses : equiped with a battery pack and a ultra capcitors pack associated with an electric power train. A specific connection system (an automatic arm) is integrated to the vehicle roof for pack loading at each stop.\n",
    "\n",
    "- Infrastructure : at each station, a charging dispositive named \"totem\" is used to refill the bus ultra-capacitor pack from the energy stored from other capacitors that time integrated to the station.\n",
    "\n",
    "Each \"totem\" is connected to the city electrical network for loading between each bus passage.\n",
    "In operation the bus is powered by supercapacitors, it travels the necessary distance to the next stop, thanks to the energy stored.\n",
    "At each stop, the arm deploys and realizes within a maximum of 10 seconds the transfer of energy between the super capacitors packs (from the totem to the bus).\n",
    "An adapted Lithium-ion battery pack is also installed in the bus in cases where the connection at one station is not possible (charging station not working, non-proper stop position...) and during trips without passengers (no stop while going back to maintenance household).\n",
    "\n",
    "[Here](https://www.youtube.com/watch?v=8UV5PGd2Nrw) a video of the bus and feedback of users.  \n"
   ]
  },
  {
   "cell_type": "markdown",
   "metadata": {},
   "source": [
    "## Thermal problem description\n",
    "\n",
    "In this example we will focus on the DC/DC converter used to connect each ultracapacitor module to the bus DC electric network as described by the following scheme (blue circuit):\n",
    "\n",
    "![ConvertersBusTotem](./01_heatsink_example/ConvertersBusTotem.png)\n",
    "\n",
    "The DC/DC converter is composed of filter elements (capacitor and inductor) but also transistors, all soldered to a dissipative heatsink that can either be equiped with fans (forced convection) or not (natural) depending on the performance and reliability levels for application case.<br>\n",
    "\n",
    "This material architecture can be represented by following scheme:\n",
    "\n",
    "![ArchiThermic](01_heatsink_example/ThermalArchitecture.png)\n",
    "\n",
    "While investigating one criteria for component sizing: maximum internal temperature, we concider following 0D model:\n",
    "\n",
    "![ArchiThermic](01_heatsink_example/ThermalNetwork.png)\n",
    "\n",
    "To validate the **insulator maximum temperature** on a duty cycle, we should first calculate total power losses in the different components and thanks to the known ambient temperature and heatsink thermal resistance $R_{th_{heatsink}}$ get to the junction temperature. Then internal insulator temperature should be calculated using an estimate $R_{th_{insulator}}$.<br>\n",
    "\n",
    "To estimate this thermal resistance, we will define a 2D finite element model on COMSOL (P-type core), with following assumptions:\n",
    "- the convective heat transfer is negligible compared to the conduction with heatsink\n",
    "- the base junction temparature is constant and fixed to 300 Kelvins (no impact on Rth since only conduction considered)\n",
    "- the winding can be represented by an equivalent homogenous thermal conductivity\n",
    "\n",
    "![PotCore](01_heatsink_example/PotCore.png)\n",
    "\n",
    "Then, the insulator thermal resistance called simply $R_{th}$ as follows is the ratio between the temperature drop of the hot spot compared to base temperature and the power losses.\n",
    "The current density $J$ will be increased in order to obtain a maximum spot temperature of 150°C, this may have no effect on $R_{th}$ since only conduction is considered, except if non-linearity appears.\n",
    "\n",
    "Just form information, other forms of ferrite cores can be found [here](https://www.ferroxcube.com).\n",
    "\n",
    ">*Note:<br>\n",
    "The following table shows some simulation results for different materials configurations and the same level of losses (36W into the coil, 100 mm for the external diameter of the core, 1 mm of airgap). These simulations show that the heat transfer can be optimized using fixation axle material as a drain. Configuration (3) will be considered for calculations.*<br>\n",
    ">\n",
    "|   Central Axis     | Airgap  | Hot spot Temperature |\n",
    "| -------------- | --------------| -----------|\n",
    "| Air | Air       | 122 °C            |\n",
    "| Air | Resin   | 90 °C |\n",
    "| Aluminum   | Resin  | 61 °C | \n",
    "\n"
   ]
  },
  {
   "cell_type": "markdown",
   "metadata": {},
   "source": [
    "## Buckingham theorem and dimensional analysis \n",
    "\n",
    "FEM simulations can take computational time not compatible with design optimization and design space exploration. One way to reduce it is to construct approximation models, known as [surrogate models](https://en.wikipedia.org/wiki/Surrogate_model), response surface models or metamodels.  \n",
    "In order to reduce the number of variables to manipulate during analysises, dimensional analysis and [Buckingham theorem](https://en.wikipedia.org/wiki/Buckingham_%CF%80_theorem) can be applied. \n",
    "\n",
    "We want to find a surrogate model to estimate the thermal resistance between the hot spot of the coil and the support of the core:\n",
    "$R_{th}=f(D,e,...,\\lambda_{eq},\\lambda_{ferrite},...)$\n",
    "with: \n",
    "- $D=D_{4},e$ : the diameter of the pot core, the airgap thickness, considering ferrite core follows geometrical similarities except for the airgap, meaning $D_{1}/D_{4}=D_{2}/D_{4}=D_{3}/D_{4}=H_{i}/D_{4}=1$.\n",
    "- $\\lambda_{eq},\\lambda_{ferrite},...$ : the equivalent thermal conductivity of the coil and the other thermal conductivities.\n",
    "\n",
    "> Exercice 1: reduce the number of variables to manipulate with the Buckingham theorem. Give expression of $\\pi_i$ numbers.<br>\n",
    "> Exercice 2: find other alternatives for $\\pi_i$ numbers expression.\n",
    "\n",
    "### Apply simple buckingham algorithm"
   ]
  },
  {
   "cell_type": "code",
   "execution_count": 1,
   "metadata": {},
   "outputs": [
    {
     "name": "stdout",
     "output_type": "stream",
     "text": [
      "All relative path from: C:\\Users\\POST-DOC\\Documents\\Python Scripts\\sizinglab-master\\sizinglab have been added.\n"
     ]
    }
   ],
   "source": [
    "# Define relative path for Sizinglab modules import\n",
    "import os\n",
    "import sys\n",
    "sys.path.insert(0, os.path.abspath('./01_heatsink_example'))\n",
    "sys.path.insert(0, os.path.abspath('../../../../sizinglab/core'))\n",
    "sys.path.insert(0, os.path.abspath('../../../../sizinglab/addon'))\n",
    "print('All relative path from: ' + os.path.abspath('../../../../sizinglab/') + ' have been added.')"
   ]
  },
  {
   "cell_type": "code",
   "execution_count": 2,
   "metadata": {},
   "outputs": [
    {
     "name": "stdout",
     "output_type": "stream",
     "text": [
      "Defined set is:\n"
     ]
    },
    {
     "data": {
      "text/latex": [
       "$\\displaystyle d \\in [1.00E-02,1.50E-01], pot\\,external\\,diameter$"
      ],
      "text/plain": [
       "<IPython.core.display.Math object>"
      ]
     },
     "metadata": {},
     "output_type": "display_data"
    },
    {
     "data": {
      "text/latex": [
       "$\\displaystyle \\lambda_{wind} \\in [1.00E-01,3.00E+00], equivalent\\,thermal\\,conductivity\\,for\\,winding$"
      ],
      "text/plain": [
       "<IPython.core.display.Math object>"
      ]
     },
     "metadata": {},
     "output_type": "display_data"
    },
    {
     "data": {
      "text/latex": [
       "$\\displaystyle rth \\in [1.00E-02,1.00E+02], thermal\\,resistance\\,hot\\,spot/base$"
      ],
      "text/plain": [
       "<IPython.core.display.Math object>"
      ]
     },
     "metadata": {},
     "output_type": "display_data"
    },
    {
     "data": {
      "text/latex": [
       "$\\displaystyle e \\in [1.00E-04,1.00E-02], airgap\\,thickness$"
      ],
      "text/plain": [
       "<IPython.core.display.Math object>"
      ]
     },
     "metadata": {},
     "output_type": "display_data"
    },
    {
     "data": {
      "text/latex": [
       "$\\displaystyle \\lambda_{ferrite} \\in [5.00E+00,5.00E+00], thermal\\,conductivity\\,for\\,ferrite$"
      ],
      "text/plain": [
       "<IPython.core.display.Math object>"
      ]
     },
     "metadata": {},
     "output_type": "display_data"
    },
    {
     "name": "stdout",
     "output_type": "stream",
     "text": [
      "\n",
      "Defined set is:\n"
     ]
    },
    {
     "data": {
      "text/latex": [
       "$\\displaystyle \\pi_{1} \\in [1.00E-05,4.50E+01], \\pi_{1}=d^{1.0} \\lambda_{wind}^{1.0} rth^{1.0}$"
      ],
      "text/plain": [
       "<IPython.core.display.Math object>"
      ]
     },
     "metadata": {},
     "output_type": "display_data"
    },
    {
     "data": {
      "text/latex": [
       "$\\displaystyle \\pi_{2} \\in [6.67E-04,1.00E+00], \\pi_{2}=\\frac{e^{1.0}}{d^{1.0}}$"
      ],
      "text/plain": [
       "<IPython.core.display.Math object>"
      ]
     },
     "metadata": {},
     "output_type": "display_data"
    },
    {
     "data": {
      "text/latex": [
       "$\\displaystyle \\pi_{3} \\in [1.67E+00,5.00E+01], \\pi_{3}=\\frac{\\lambda_{FERRITE}^{1.0}}{\\lambda_{wind}^{1.0}}$"
      ],
      "text/plain": [
       "<IPython.core.display.Math object>"
      ]
     },
     "metadata": {},
     "output_type": "display_data"
    },
    {
     "name": "stdout",
     "output_type": "stream",
     "text": [
      "\n"
     ]
    }
   ],
   "source": [
    "# Import Sizing Lab modules\n",
    "from definition import PositiveParameter, PositiveParameterSet # load classes uses for VPLM\n",
    "from variablepowerlaw import buckingham_theorem # load buckingham theorem\n",
    "\n",
    "# Define Classes as global (visibility issue in packages)\n",
    "setattr(__builtins__, 'PositiveParameter', PositiveParameter)\n",
    "setattr(__builtins__, 'PositiveParameterSet', PositiveParameterSet)\n",
    "\n",
    "# Declare physical variables and set\n",
    "rth=PositiveParameter('rth', [0.01, 100], 'K/W', 'thermal resistance hot spot/base')\n",
    "d = PositiveParameter('d', [10e-3, 150e-3],'m','pot external diameter')\n",
    "e = PositiveParameter('e', [.1e-3, 10e-3], 'm', 'airgap thickness')\n",
    "lambda_ferrite = PositiveParameter('lambda_ferrite', [5], 'W/m/K', 'thermal conductivity for ferrite')\n",
    "lambda_wind = PositiveParameter('lambda_wind', [.1,3], 'W/(m*K)', 'equivalent thermal conductivity for winding')\n",
    "parameter_set = PositiveParameterSet(rth, d, e, lambda_wind,  lambda_ferrite)\n",
    "\n",
    "# Define d and lambda_wind to be first elected as repetitive set\n",
    "parameter_set.first('d', 'lambda_wind')\n",
    "parameter_set.latex_render()\n",
    "\n",
    "# Calculate pi parameters with first repetitive set found in parameters' order\n",
    "pi_set, _ = buckingham_theorem(parameter_set, False)\n",
    "pi_set.latex_render()"
   ]
  },
  {
   "cell_type": "markdown",
   "metadata": {},
   "source": [
    "### Apply automatic research of different Pi sets [optional]\n",
    "The obtained Pi set could match your need because repetitive variables have been conserved, yet you may want to choose other pi set formulations, to do so consider automatic buckingham to discover alternate solutions."
   ]
  },
  {
   "cell_type": "code",
   "execution_count": null,
   "metadata": {},
   "outputs": [],
   "source": [
    "# Import Sizing Lab modules\n",
    "from variablepowerlaw import automatic_buckingham\n",
    "\n",
    "# Import additional libs\n",
    "import ipywidgets as widgets\n",
    "\n",
    "# Compute automatic search of pi [step that may take a while, so be patient]\n",
    "combinatory_pi_set = automatic_buckingham(parameter_set, False)\n",
    "\n",
    "# Write the different expressions from the obtained combinatory_pi_set to display a list\n",
    "list_dict = {}\n",
    "for key in combinatory_pi_set.keys():\n",
    "    expression = ''\n",
    "    for idx in range(len(combinatory_pi_set[key][1])):\n",
    "        expression += 'pi' + str(idx + 1) + '=' + combinatory_pi_set[key][1][idx] + '  |  ' \n",
    "    expression = expression[0:len(expression) - 5]\n",
    "    list_dict[expression] = key\n",
    "    \n",
    "# Create and display widget\n",
    "pi_set_number = widgets.Dropdown(options=list_dict, description='Choose Pi Set')\n",
    "display(pi_set_number)"
   ]
  },
  {
   "cell_type": "code",
   "execution_count": null,
   "metadata": {},
   "outputs": [],
   "source": [
    "# Display selected pi set\n",
    "pi_set = combinatory_pi_set[pi_set_number.value][0]\n",
    "pi_set.latex_render()"
   ]
  },
  {
   "cell_type": "markdown",
   "metadata": {},
   "source": [
    "## Design of experiments\n",
    "As we want an estimate of the $R_{th}$ parameter, we will have to construct a DOE on the different physical parameters that are covering \"quite well\" the Pi space. A good coverage is considered with fullfact DOE on logarithmic values of Pi: this can be done using **pixdoe.create_const_doe** method."
   ]
  },
  {
   "cell_type": "code",
   "execution_count": 3,
   "metadata": {},
   "outputs": [
    {
     "name": "stdout",
     "output_type": "stream",
     "text": [
      "Defined set is:\n"
     ]
    },
    {
     "data": {
      "text/latex": [
       "$\\displaystyle \\pi_{2} \\in [6.67E-04,1.00E-01], \\pi_{2}=\\frac{e^{1.0}}{d^{1.0}}$"
      ],
      "text/plain": [
       "<IPython.core.display.Math object>"
      ]
     },
     "metadata": {},
     "output_type": "display_data"
    },
    {
     "data": {
      "text/latex": [
       "$\\displaystyle \\pi_{3} \\in [1.67E+00,5.00E+01], \\pi_{3}=\\frac{\\lambda_{FERRITE}^{1.0}}{\\lambda_{wind}^{1.0}}$"
      ],
      "text/plain": [
       "<IPython.core.display.Math object>"
      ]
     },
     "metadata": {},
     "output_type": "display_data"
    },
    {
     "name": "stdout",
     "output_type": "stream",
     "text": [
      "\n",
      "Model quality factors (smaller is better) are r (X reduction factor) = [94.91]%, err (max relative error on nominal Pi set) = 1.62%\n",
      "\n"
     ]
    },
    {
     "data": {
      "image/png": "[encoded data removed]",
      "text/plain": [
       "<Figure size 432x288 with 1 Axes>"
      ]
     },
     "metadata": {
      "needs_background": "light"
     },
     "output_type": "display_data"
    },
    {
     "data": {
      "image/png": "[encoded data removed]",
      "text/plain": [
       "<Figure size 432x288 with 1 Axes>"
      ]
     },
     "metadata": {
      "needs_background": "light"
     },
     "output_type": "display_data"
    },
    {
     "data": {
      "image/png": "[encoded data removed]",
      "text/plain": [
       "<Figure size 432x288 with 1 Axes>"
      ]
     },
     "metadata": {
      "needs_background": "light"
     },
     "output_type": "display_data"
    },
    {
     "data": {
      "image/png": "[encoded data removed]",
      "text/plain": [
       "<Figure size 432x288 with 1 Axes>"
      ]
     },
     "metadata": {
      "needs_background": "light"
     },
     "output_type": "display_data"
    },
    {
     "name": "stdout",
     "output_type": "stream",
     "text": [
      "REMINDER: while importing parameters'values to COMSOL use following units\n",
      "d:meter\n",
      "lambda_wind:kilogram * meter / kelvin / second ** 3\n",
      "e:meter\n",
      "LAMBDA_FERRITE:kilogram * meter / kelvin / second ** 3\n",
      "\n",
      " ./01_heatsink_example/input_01.txt file created with success...\n"
     ]
    }
   ],
   "source": [
    "# Import Sizing Lab modules\n",
    "from pixdoe import create_const_doe\n",
    "from variablepowerlaw import declare_func_x_to_pi, reduce_parameter_set\n",
    "from comsoladdon import save_file\n",
    "\n",
    "# Import additional libs\n",
    "import numpy\n",
    "\n",
    "# Add manually the e<=d/10 constraint <=> e/d=pi2<=0.1\n",
    "pi_set['pi2'].defined_bounds = [pi_set['pi2'].defined_bounds[0], 0.1]\n",
    "\n",
    "# Extract Pi0 and Rth before calculating DOE\n",
    "reduced_parameter_set, reduced_pi_set = reduce_parameter_set(parameter_set, pi_set, 'rth')\n",
    "reduced_pi_set.latex_render()\n",
    "\n",
    "# Save function to translate x parameters to pi parameters\n",
    "func_x_to_pi = declare_func_x_to_pi(reduced_parameter_set, reduced_pi_set)\n",
    "\n",
    "# Generate at least 50 points DOE on physical parameters to have proper fullfact doe on PI (distance criteria is 1/5 and 3 points elected)\n",
    "doeX, _ = create_const_doe(reduced_parameter_set, reduced_pi_set, func_x_to_pi, 50, numpy.ones(4).astype(int), [], [], 3, 5, True, False)\n",
    "\n",
    "# Save .CSV file with SI units for further use\n",
    "file_name = './01_heatsink_example/input_01'\n",
    "save_file(doeX, file_name, reduced_parameter_set, True)"
   ]
  },
  {
   "cell_type": "markdown",
   "metadata": {},
   "source": [
    "> *Note:<br>\n",
    "The calculated DOE is expressed in SI units and not defined units, therefore is_SI parameter for save_csv function must be set to* ***True***"
   ]
  },
  {
   "cell_type": "markdown",
   "metadata": {},
   "source": [
    "## Surface response model for the thermal resistance\n",
    "\n",
    "Multiple Comsol FEM simulations have been performed on given DOE.<br>\n",
    "The following file summurizes usefull data: ***output_01.txt*** it gathers input parameters and two output values: "
   ]
  },
  {
   "cell_type": "code",
   "execution_count": 4,
   "metadata": {},
   "outputs": [
    {
     "data": {
      "text/html": [
       "<div>\n",
       "<style scoped>\n",
       "    .dataframe tbody tr th:only-of-type {\n",
       "        vertical-align: middle;\n",
       "    }\n",
       "\n",
       "    .dataframe tbody tr th {\n",
       "        vertical-align: top;\n",
       "    }\n",
       "\n",
       "    .dataframe thead th {\n",
       "        text-align: right;\n",
       "    }\n",
       "</style>\n",
       "<table border=\"1\" class=\"dataframe\">\n",
       "  <thead>\n",
       "    <tr style=\"text-align: right;\">\n",
       "      <th></th>\n",
       "      <th>d</th>\n",
       "      <th>lambda_wind</th>\n",
       "      <th>e</th>\n",
       "      <th>LAMBDA_FERRITE</th>\n",
       "      <th>Total_heat_source [W]</th>\n",
       "      <th>Temperature [K]</th>\n",
       "    </tr>\n",
       "  </thead>\n",
       "  <tbody>\n",
       "    <tr>\n",
       "      <th>0</th>\n",
       "      <td>0.150000</td>\n",
       "      <td>3.0</td>\n",
       "      <td>0.000100</td>\n",
       "      <td>5.0</td>\n",
       "      <td>120.939807</td>\n",
       "      <td>381.640354</td>\n",
       "    </tr>\n",
       "    <tr>\n",
       "      <th>1</th>\n",
       "      <td>0.087272</td>\n",
       "      <td>3.0</td>\n",
       "      <td>0.000100</td>\n",
       "      <td>5.0</td>\n",
       "      <td>23.835969</td>\n",
       "      <td>327.775352</td>\n",
       "    </tr>\n",
       "    <tr>\n",
       "      <th>2</th>\n",
       "      <td>0.050776</td>\n",
       "      <td>3.0</td>\n",
       "      <td>0.000100</td>\n",
       "      <td>5.0</td>\n",
       "      <td>4.700290</td>\n",
       "      <td>309.477255</td>\n",
       "    </tr>\n",
       "    <tr>\n",
       "      <th>3</th>\n",
       "      <td>0.087272</td>\n",
       "      <td>3.0</td>\n",
       "      <td>0.000251</td>\n",
       "      <td>5.0</td>\n",
       "      <td>23.899106</td>\n",
       "      <td>328.220696</td>\n",
       "    </tr>\n",
       "    <tr>\n",
       "      <th>4</th>\n",
       "      <td>0.050776</td>\n",
       "      <td>3.0</td>\n",
       "      <td>0.000251</td>\n",
       "      <td>5.0</td>\n",
       "      <td>4.721661</td>\n",
       "      <td>309.704770</td>\n",
       "    </tr>\n",
       "    <tr>\n",
       "      <th>5</th>\n",
       "      <td>0.029542</td>\n",
       "      <td>3.0</td>\n",
       "      <td>0.000251</td>\n",
       "      <td>5.0</td>\n",
       "      <td>0.934935</td>\n",
       "      <td>303.359584</td>\n",
       "    </tr>\n",
       "    <tr>\n",
       "      <th>6</th>\n",
       "      <td>0.017188</td>\n",
       "      <td>3.0</td>\n",
       "      <td>0.000251</td>\n",
       "      <td>5.0</td>\n",
       "      <td>0.185832</td>\n",
       "      <td>301.173469</td>\n",
       "    </tr>\n",
       "    <tr>\n",
       "      <th>7</th>\n",
       "      <td>0.029542</td>\n",
       "      <td>3.0</td>\n",
       "      <td>0.000631</td>\n",
       "      <td>5.0</td>\n",
       "      <td>0.953107</td>\n",
       "      <td>303.570492</td>\n",
       "    </tr>\n",
       "    <tr>\n",
       "      <th>8</th>\n",
       "      <td>0.017188</td>\n",
       "      <td>3.0</td>\n",
       "      <td>0.000631</td>\n",
       "      <td>5.0</td>\n",
       "      <td>0.191984</td>\n",
       "      <td>301.281169</td>\n",
       "    </tr>\n",
       "    <tr>\n",
       "      <th>9</th>\n",
       "      <td>0.010000</td>\n",
       "      <td>3.0</td>\n",
       "      <td>0.000631</td>\n",
       "      <td>5.0</td>\n",
       "      <td>0.039257</td>\n",
       "      <td>300.473943</td>\n",
       "    </tr>\n",
       "  </tbody>\n",
       "</table>\n",
       "</div>"
      ],
      "text/plain": [
       "          d  lambda_wind         e  LAMBDA_FERRITE  Total_heat_source [W]  \\\n",
       "0  0.150000          3.0  0.000100             5.0             120.939807   \n",
       "1  0.087272          3.0  0.000100             5.0              23.835969   \n",
       "2  0.050776          3.0  0.000100             5.0               4.700290   \n",
       "3  0.087272          3.0  0.000251             5.0              23.899106   \n",
       "4  0.050776          3.0  0.000251             5.0               4.721661   \n",
       "5  0.029542          3.0  0.000251             5.0               0.934935   \n",
       "6  0.017188          3.0  0.000251             5.0               0.185832   \n",
       "7  0.029542          3.0  0.000631             5.0               0.953107   \n",
       "8  0.017188          3.0  0.000631             5.0               0.191984   \n",
       "9  0.010000          3.0  0.000631             5.0               0.039257   \n",
       "\n",
       "   Temperature [K]  \n",
       "0       381.640354  \n",
       "1       327.775352  \n",
       "2       309.477255  \n",
       "3       328.220696  \n",
       "4       309.704770  \n",
       "5       303.359584  \n",
       "6       301.173469  \n",
       "7       303.570492  \n",
       "8       301.281169  \n",
       "9       300.473943  "
      ]
     },
     "execution_count": 4,
     "metadata": {},
     "output_type": "execute_result"
    }
   ],
   "source": [
    "# Import Sizing Lab modules\n",
    "from comsoladdon import import_file\n",
    "\n",
    "# Import FEM thermal simulations results and plot 10th first points\n",
    "doeX_FEM = import_file('./01_heatsink_example/output_01', parameter_set, 'from_file')\n",
    "doeX_FEM.head(n=10)"
   ]
  },
  {
   "cell_type": "code",
   "execution_count": 5,
   "metadata": {},
   "outputs": [
    {
     "data": {
      "text/html": [
       "<div>\n",
       "<style scoped>\n",
       "    .dataframe tbody tr th:only-of-type {\n",
       "        vertical-align: middle;\n",
       "    }\n",
       "\n",
       "    .dataframe tbody tr th {\n",
       "        vertical-align: top;\n",
       "    }\n",
       "\n",
       "    .dataframe thead th {\n",
       "        text-align: right;\n",
       "    }\n",
       "</style>\n",
       "<table border=\"1\" class=\"dataframe\">\n",
       "  <thead>\n",
       "    <tr style=\"text-align: right;\">\n",
       "      <th></th>\n",
       "      <th>d</th>\n",
       "      <th>lambda_wind</th>\n",
       "      <th>rth</th>\n",
       "      <th>e</th>\n",
       "      <th>LAMBDA_FERRITE</th>\n",
       "    </tr>\n",
       "  </thead>\n",
       "  <tbody>\n",
       "    <tr>\n",
       "      <th>0</th>\n",
       "      <td>0.150000</td>\n",
       "      <td>3.0</td>\n",
       "      <td>0.675049</td>\n",
       "      <td>0.000100</td>\n",
       "      <td>5.0</td>\n",
       "    </tr>\n",
       "    <tr>\n",
       "      <th>1</th>\n",
       "      <td>0.087272</td>\n",
       "      <td>3.0</td>\n",
       "      <td>1.165270</td>\n",
       "      <td>0.000100</td>\n",
       "      <td>5.0</td>\n",
       "    </tr>\n",
       "    <tr>\n",
       "      <th>2</th>\n",
       "      <td>0.050776</td>\n",
       "      <td>3.0</td>\n",
       "      <td>2.016313</td>\n",
       "      <td>0.000100</td>\n",
       "      <td>5.0</td>\n",
       "    </tr>\n",
       "    <tr>\n",
       "      <th>3</th>\n",
       "      <td>0.087272</td>\n",
       "      <td>3.0</td>\n",
       "      <td>1.180826</td>\n",
       "      <td>0.000251</td>\n",
       "      <td>5.0</td>\n",
       "    </tr>\n",
       "    <tr>\n",
       "      <th>4</th>\n",
       "      <td>0.050776</td>\n",
       "      <td>3.0</td>\n",
       "      <td>2.055372</td>\n",
       "      <td>0.000251</td>\n",
       "      <td>5.0</td>\n",
       "    </tr>\n",
       "    <tr>\n",
       "      <th>5</th>\n",
       "      <td>0.029542</td>\n",
       "      <td>3.0</td>\n",
       "      <td>3.593389</td>\n",
       "      <td>0.000251</td>\n",
       "      <td>5.0</td>\n",
       "    </tr>\n",
       "    <tr>\n",
       "      <th>6</th>\n",
       "      <td>0.017188</td>\n",
       "      <td>3.0</td>\n",
       "      <td>6.314668</td>\n",
       "      <td>0.000251</td>\n",
       "      <td>5.0</td>\n",
       "    </tr>\n",
       "    <tr>\n",
       "      <th>7</th>\n",
       "      <td>0.029542</td>\n",
       "      <td>3.0</td>\n",
       "      <td>3.746162</td>\n",
       "      <td>0.000631</td>\n",
       "      <td>5.0</td>\n",
       "    </tr>\n",
       "    <tr>\n",
       "      <th>8</th>\n",
       "      <td>0.017188</td>\n",
       "      <td>3.0</td>\n",
       "      <td>6.673327</td>\n",
       "      <td>0.000631</td>\n",
       "      <td>5.0</td>\n",
       "    </tr>\n",
       "    <tr>\n",
       "      <th>9</th>\n",
       "      <td>0.010000</td>\n",
       "      <td>3.0</td>\n",
       "      <td>12.072839</td>\n",
       "      <td>0.000631</td>\n",
       "      <td>5.0</td>\n",
       "    </tr>\n",
       "  </tbody>\n",
       "</table>\n",
       "</div>"
      ],
      "text/plain": [
       "          d  lambda_wind        rth         e  LAMBDA_FERRITE\n",
       "0  0.150000          3.0   0.675049  0.000100             5.0\n",
       "1  0.087272          3.0   1.165270  0.000100             5.0\n",
       "2  0.050776          3.0   2.016313  0.000100             5.0\n",
       "3  0.087272          3.0   1.180826  0.000251             5.0\n",
       "4  0.050776          3.0   2.055372  0.000251             5.0\n",
       "5  0.029542          3.0   3.593389  0.000251             5.0\n",
       "6  0.017188          3.0   6.314668  0.000251             5.0\n",
       "7  0.029542          3.0   3.746162  0.000631             5.0\n",
       "8  0.017188          3.0   6.673327  0.000631             5.0\n",
       "9  0.010000          3.0  12.072839  0.000631             5.0"
      ]
     },
     "execution_count": 5,
     "metadata": {},
     "output_type": "execute_result"
    }
   ],
   "source": [
    "# Make little post-processing by replacing power loss and temperature drop by Rth:\n",
    "doeX_FEM['rth'] = (doeX_FEM['Temperature [K]']-300)/doeX_FEM['Total_heat_source [W]']\n",
    "doeX_FEM = doeX_FEM.drop(columns=['Total_heat_source [W]','Temperature [K]'])\n",
    "doeX_FEM = doeX_FEM[list(parameter_set.dictionary.keys())]\n",
    "doeX_FEM.head(n=10)"
   ]
  },
  {
   "cell_type": "markdown",
   "metadata": {},
   "source": [
    "We want to perform here a linear regression to determine an estimation model of the form:<br>\n",
    "$Pi_{0}=Pi_{1}=f(Pi_{2},Pi_{3})=10^{a_{1}}*PI_{2}^{a_{2}+a_{22}*log(PI_{2})+a_{23}*log(PI_{3})}*PI_{3}^{a_{3}+a_{33}*log(PI_{3})}$\n",
    "\n",
    "Which can be written in log as:<br>\n",
    "$log(Pi_{1})=a_{1}+a_{2}*log(PI_{2})+a_{22}*log(PI_{2})^2+a_{23}*log(PI_{2})*log(PI_{3})+a_{3}*log(PI_{3})+a_{33}*log(PI_{3})^2$\n",
    "\n",
    "> Exercice: Use **variablepowerlaw.regression_models** method to fit results.\n"
   ]
  },
  {
   "cell_type": "code",
   "execution_count": 6,
   "metadata": {},
   "outputs": [
    {
     "data": {
      "image/png": "[encoded data removed]",
      "text/plain": [
       "<Figure size 576x720 with 4 Axes>"
      ]
     },
     "metadata": {
      "needs_background": "light"
     },
     "output_type": "display_data"
    },
    {
     "name": "stdout",
     "output_type": "stream",
     "text": [
      "Best model on minimum average |e| criteria is n°5:\n",
      "log(pi1) =-0.04704-0.86200*log(pi3)+0.19521*log(pi2)+0.03378*log(pi2)**2+0.09352*log(pi3)**2\n",
      "\n",
      "With relative error on pi1 [%]: u=0.0, s=2.9\n",
      "\n"
     ]
    }
   ],
   "source": [
    "# Import Sizing Lab modules\n",
    "from variablepowerlaw import declare_func_x_to_pi, regression_models\n",
    "\n",
    "# Define transformation function with full set that time\n",
    "func_x_to_pi = declare_func_x_to_pi(parameter_set, pi_set)\n",
    "\n",
    "# Fit with 2nd order model the obtained Pi DOE\n",
    "doePI = func_x_to_pi(doeX_FEM.values)\n",
    "models = regression_models(doePI, 'pi1', 2, True, 20)"
   ]
  },
  {
   "cell_type": "code",
   "execution_count": 7,
   "metadata": {},
   "outputs": [
    {
     "name": "stdout",
     "output_type": "stream",
     "text": [
      "Alternative model is n°5:\n",
      "log(pi1) =-0.04704-0.86200*log(pi3)+0.19521*log(pi2)+0.03378*log(pi2)**2+0.09352*log(pi3)**2\n",
      "\n",
      "With relative error on pi1[%]: u=0.0, s=2.9\n",
      "\n"
     ]
    },
    {
     "data": {
      "image/png": "[encoded data removed]",
      "text/plain": [
       "<Figure size 432x288 with 2 Axes>"
      ]
     },
     "metadata": {
      "needs_background": "light"
     },
     "output_type": "display_data"
    }
   ],
   "source": [
    "# Import\n",
    "from variablepowerlaw import perform_regression\n",
    "\n",
    "# Plot advanced result for model n°5\n",
    "perform_regression(doePI, models, 5)"
   ]
  },
  {
   "cell_type": "markdown",
   "metadata": {},
   "source": [
    "## Annex : thermal conductivity \n",
    "\n",
    "|   Material    | Thermal conductivity |\n",
    "| -------------- | --------------|\n",
    "| Copper | 400 W/(mK)            |\n",
    "| Aluminum  | 200 W/(mK) |\n",
    "| Air   | 0.03 W/(mK) | \n",
    "| Ferrite   | 5 W/(mK) | \n",
    "| Resin   | 0.25 W/(mK) |\n",
    "| Copper+Resin(*)   | 0.5 W/(mK) | \n",
    "\n",
    "(*) for a mix of 33% copper, 66% resin\n"
   ]
  }
 ],
 "metadata": {
  "celltoolbar": "Slideshow",
  "kernelspec": {
   "display_name": "Python 3",
   "language": "python",
   "name": "python3"
  },
  "language_info": {
   "codemirror_mode": {
    "name": "ipython",
    "version": 3
   },
   "file_extension": ".py",
   "mimetype": "text/x-python",
   "name": "python",
   "nbconvert_exporter": "python",
   "pygments_lexer": "ipython3",
   "version": "3.6.8"
  }
 },
 "nbformat": 4,
 "nbformat_minor": 2
}
