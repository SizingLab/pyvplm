{
 "cells": [
  {
   "cell_type": "markdown",
   "metadata": {
    "slideshow": {
     "slide_type": "slide"
    }
   },
   "source": [
    "# 04-STATOR PERMANENT MAGNET MOTOR EXAMPLE<img src=\"logo.png\" style=\"float:right; max-width: 60px; display: inline\" alt=\"logo\" /></a>"
   ]
  },
  {
   "cell_type": "markdown",
   "metadata": {
    "slideshow": {
     "slide_type": "slide"
    }
   },
   "source": [
    "# Motor estimation models with dimensional analysis and sensitivity/dependency analysis\n",
    "*Originally written by Aurelien Reysset, INSA Toulouse, France*<br>\n",
    "\n",
    "## 1 - Introduction\n",
    "<a id=\"1\"></a>\n",
    "\n",
    "Motor design is carried out by specialists and depend on the fullfilled missions. Even considering a defined set of materials, geometry can be adapted with a lot of internal parametrized components forms to answer performance needs. Here, those needs will be limited to different diameters (integration limit), speed limits (high/low speed demand) and thermal conductivity factors (high/low dynamics applications) with a common objective: optimizing linear-torque density.\n",
    "\n",
    "At the early stages of a project assesment, it is combersome to handle lots of parameters and high-fidelity models (long simulation time). Therefore, in this Notebook, we will see how we can reduce problem complexity even before constructing response surface on the complete set of dimensionless parameters.\n",
    "\n",
    "First we will analyse problem dimensionnality to work only with dimensionless parameters, then we will provide a FEM model within FEMM software using a python script to design and calculate motor performances (used to calculate the set used for sensitivity analysis), and finally the sensitivity and dependency analysis using SizingLab tools will be presented.\n",
    "\n",
    "<font color=blue>Table of contents:</font><br>\n",
    "[1 - Introduction](#1-Introduction)<br>\n",
    "[2 - Dimensional analysis](#2)<br>\n",
    "[3 - Buckingham theorem and dimensional analysis](#3)<br>\n",
    "[4 - Design of experiments](#4)<br>\n",
    "[5 - Variable power-law model regression](#5)"
   ]
  },
  {
   "cell_type": "markdown",
   "metadata": {},
   "source": [
    "## 2 - Dimensional analysis [§](#1)\n",
    "<a id=\"2\"></a>\n",
    "\n",
    "The main design parameters for a permanent magnet motor are summed-up in next table:\n",
    "\n",
    "|   Parameter     | Description  | Units |\n",
    "| -------------- | --------------| -----------|\n",
    "|$D_E$|External stator diameter|[mm]|\n",
    "|$D_I$|Internal stator diameter|[mm]|\n",
    "|$e_{tooth}$|Tooth thikness|[mm]|\n",
    "|$e_{yoke}$|Tooth thikness|[mm]|\n",
    "|$W_{PM}$|Permanent magnet width|[mm]|\n",
    "|$R_I$|Rotor internal radius|[mm]|\n",
    "|$J$|Winding current density|[A/m²]|\n",
    "|$B_R$|Permanent magnet remanence|[tesla]|\n",
    "|$B_{SAT}$|Iron induction saturation|[tesla]|\n",
    "|$\\mu_0$|Vacuum permeability|[H/m]|\n",
    "| |\n",
    "|$T_L$|Linear torque|[N]|\n",
    "| |\n",
    "|$P_{J,L}$|Linear joule losses|[W/m]|\n",
    "|$\\rho_{WIND}$|Linear winding resistivity|[Ohm.m]|\n",
    "|$S_{WIND}$|Winding total cross section|[mm²]|\n",
    "\n",
    "\n",
    "To estimate inductor thermal resistance, a 2D finite element model on COMSOL (P-type core, other forms could be find [here](https://www.ferroxcube.com)) is developped, with following assumptions:\n",
    "- the convective heat transfer is negligible compared to the conduction with heatsink (trough lower base)\n",
    "- the base junction temparature is constant and fixed to 300 Kelvins (no influence on conductive resistance but necessary to calculate hot spot temperature)\n",
    "- the winding can be represented by an equivalent homogenous thermal conductivity\n",
    "\n",
    "<figure>\n",
    "    <img src=\"./01_inductor_example/FEM.png\" alt=\"FEM\" style=\"height:400px\">    \n",
    "    <figcaption>Fig.2 - Insulator FEM.</figcaption>\n",
    "</figure>\n",
    "\n",
    "> **Note**: Following table shows the impact of materials on thermal transfert optimization. Configuration (3) is considered for our simulations.\n",
    ">\n",
    "|   Central Axis     | Airgap  | Hot spot Temperature |\n",
    "| -------------- | --------------| -----------|\n",
    "| Air | Air       | 122 °C            |\n",
    "| Air | Resin   | 90 °C |\n",
    "| Aluminum   | Resin  | 61 °C | \n",
    "\n",
    "<br>\n",
    "<figcaption>Tab.1 - Insulator material optimization (P=36W, airgap=1mm, D=100mm).</figcaption>"
   ]
  },
  {
   "cell_type": "code",
   "execution_count": 1,
   "metadata": {},
   "outputs": [
    {
     "name": "stdout",
     "output_type": "stream",
     "text": [
      "All relative path from: C:\\Users\\POST-DOC\\Documents\\Python Scripts\\sizinglab-master\\sizinglab have been added.\n"
     ]
    }
   ],
   "source": [
    "# Define relative path for Sizinglab modules import [mandatory for relative search of the different packages/methods]\n",
    "import os\n",
    "import sys\n",
    "sys.path.insert(0, os.path.abspath('./01_inductor_example'))\n",
    "sys.path.insert(0, os.path.abspath('../../../../sizinglab/core'))\n",
    "sys.path.insert(0, os.path.abspath('../../../../sizinglab/addon'))\n",
    "print('All relative path from: ' + os.path.abspath('../../../../sizinglab/') + ' have been added.')"
   ]
  },
  {
   "cell_type": "code",
   "execution_count": 2,
   "metadata": {},
   "outputs": [
    {
     "data": {
      "text/html": [
       "<div>\n",
       "<style scoped>\n",
       "    .dataframe tbody tr th:only-of-type {\n",
       "        vertical-align: middle;\n",
       "    }\n",
       "\n",
       "    .dataframe tbody tr th {\n",
       "        vertical-align: top;\n",
       "    }\n",
       "\n",
       "    .dataframe thead th {\n",
       "        text-align: right;\n",
       "    }\n",
       "</style>\n",
       "<table border=\"1\" class=\"dataframe\">\n",
       "  <thead>\n",
       "    <tr style=\"text-align: right;\">\n",
       "      <th></th>\n",
       "      <th>pj</th>\n",
       "      <th>pfe</th>\n",
       "      <th>pi2</th>\n",
       "      <th>pi3</th>\n",
       "      <th>pi4</th>\n",
       "      <th>pi5</th>\n",
       "      <th>pi6</th>\n",
       "    </tr>\n",
       "  </thead>\n",
       "  <tbody>\n",
       "    <tr>\n",
       "      <th>0</th>\n",
       "      <td>368.93</td>\n",
       "      <td>50.65</td>\n",
       "      <td>0.350400</td>\n",
       "      <td>0.289153</td>\n",
       "      <td>0.160046</td>\n",
       "      <td>0.035867</td>\n",
       "      <td>0.272200</td>\n",
       "    </tr>\n",
       "    <tr>\n",
       "      <th>1</th>\n",
       "      <td>367.80</td>\n",
       "      <td>142.42</td>\n",
       "      <td>0.349733</td>\n",
       "      <td>0.284569</td>\n",
       "      <td>0.160046</td>\n",
       "      <td>0.033000</td>\n",
       "      <td>0.273333</td>\n",
       "    </tr>\n",
       "    <tr>\n",
       "      <th>2</th>\n",
       "      <td>365.10</td>\n",
       "      <td>18.37</td>\n",
       "      <td>0.338333</td>\n",
       "      <td>0.284569</td>\n",
       "      <td>0.156608</td>\n",
       "      <td>0.036333</td>\n",
       "      <td>0.259867</td>\n",
       "    </tr>\n",
       "    <tr>\n",
       "      <th>3</th>\n",
       "      <td>839.00</td>\n",
       "      <td>58.76</td>\n",
       "      <td>0.323133</td>\n",
       "      <td>0.307105</td>\n",
       "      <td>0.183346</td>\n",
       "      <td>0.064400</td>\n",
       "      <td>0.216533</td>\n",
       "    </tr>\n",
       "    <tr>\n",
       "      <th>4</th>\n",
       "      <td>183.55</td>\n",
       "      <td>50.77</td>\n",
       "      <td>0.357267</td>\n",
       "      <td>0.256303</td>\n",
       "      <td>0.132926</td>\n",
       "      <td>0.029200</td>\n",
       "      <td>0.288800</td>\n",
       "    </tr>\n",
       "  </tbody>\n",
       "</table>\n",
       "</div>"
      ],
      "text/plain": [
       "       pj     pfe       pi2       pi3       pi4       pi5       pi6\n",
       "0  368.93   50.65  0.350400  0.289153  0.160046  0.035867  0.272200\n",
       "1  367.80  142.42  0.349733  0.284569  0.160046  0.033000  0.273333\n",
       "2  365.10   18.37  0.338333  0.284569  0.156608  0.036333  0.259867\n",
       "3  839.00   58.76  0.323133  0.307105  0.183346  0.064400  0.216533\n",
       "4  183.55   50.77  0.357267  0.256303  0.132926  0.029200  0.288800"
      ]
     },
     "execution_count": 2,
     "metadata": {},
     "output_type": "execute_result"
    }
   ],
   "source": [
    "import pandas\n",
    "doe = pandas.read_excel('./04_landingGear_example/pi_analysis_example.xls')\n",
    "doe.head(n=5)"
   ]
  },
  {
   "cell_type": "code",
   "execution_count": 3,
   "metadata": {},
   "outputs": [],
   "source": [
    "# Import Sizing Lab modules\n",
    "from definition import PositiveParameter, PositiveParameterSet\n",
    "# Define Classes as global (visibility issue in packages)\n",
    "setattr(__builtins__, 'PositiveParameter', PositiveParameter)\n",
    "setattr(__builtins__, 'PositiveParameterSet', PositiveParameterSet)\n",
    "\n",
    "doePI = doe[['pj','pfe','pj','pfe','pi2','pi3','pi4','pi5','pi6']].values\n",
    "pi1 = PositiveParameter('pi1',[0.1,1],'','t*l**-1*b_r**-1*j**-1*d_e**-3')\n",
    "pi2 = PositiveParameter('pi2',[0.1,1],'','p_j')\n",
    "pi3 = PositiveParameter('pi3',[0.1,1],'','p_fe')\n",
    "pi4 = PositiveParameter('pi4',[0.1,1],'','mu_0*j*d_e*b_r**-1')\n",
    "pi5 = PositiveParameter('pi5',[0.1,1],'','d_i*d_e**-1')\n",
    "pi6 = PositiveParameter('pi6',[0.1,1],'','e_tooth*d_e**-1*n')\n",
    "pi7 = PositiveParameter('pi7',[0.1,1],'','e_yoke*d_e**-1*n')\n",
    "pi8 = PositiveParameter('pi8',[0.1,1],'','w_pm*d_e**-1')\n",
    "pi9 = PositiveParameter('pi9',[0.1,1],'','r_i*d_e**-1')\n",
    "pi_set = PositiveParameterSet(pi1, pi2, pi3, pi4, pi5, pi6, pi7, pi8, pi9)\n"
   ]
  },
  {
   "cell_type": "code",
   "execution_count": 4,
   "metadata": {},
   "outputs": [
    {
     "data": {
      "application/vnd.jupyter.widget-view+json": {
       "model_id": "e346648957b043e39766caf198f204c5",
       "version_major": 2,
       "version_minor": 0
      },
      "text/plain": [
       "VBox(children=(Tab(children=(HBox(children=(Checkbox(value=True, description='$\\\\pi_{1}$'), Checkbox(value=Fal…"
      ]
     },
     "metadata": {},
     "output_type": "display_data"
    },
    {
     "data": {
      "image/png": "[encoded data removed]",
      "text/plain": [
       "<Figure size 1152x216 with 8 Axes>"
      ]
     },
     "metadata": {
      "needs_background": "light"
     },
     "output_type": "display_data"
    }
   ],
   "source": [
    "# Change matplotlib visualisation parameter\n",
    "%matplotlib inline\n",
    "\n",
    "# Import Sizing Lab modules\n",
    "from variablepowerlaw import pi_sensitivity\n",
    "\n",
    "# Perform sensitivity analysis\n",
    "pi_sensitivity(pi_set, doePI, True)"
   ]
  },
  {
   "cell_type": "code",
   "execution_count": null,
   "metadata": {},
   "outputs": [],
   "source": [
    "# Import Sizing Lab modules\n",
    "from variablepowerlaw import pi_dependency\n",
    "\n",
    "# Perform dependency analysis\n"
   ]
  },
  {
   "cell_type": "code",
   "execution_count": null,
   "metadata": {},
   "outputs": [],
   "source": [
    "import webbrowser, os\n",
    "new = 2\n",
    "url = 'file://' + os.path.realpath(os.path.abspath('../../../build/index.html'))\n",
    "url = url.replace('\\\\','/')\n",
    "webbrowser.open(url,new=new)"
   ]
  }
 ],
 "metadata": {
  "celltoolbar": "Slideshow",
  "kernelspec": {
   "display_name": "Python 3",
   "language": "python",
   "name": "python3"
  },
  "language_info": {
   "codemirror_mode": {
    "name": "ipython",
    "version": 3
   },
   "file_extension": ".py",
   "mimetype": "text/x-python",
   "name": "python",
   "nbconvert_exporter": "python",
   "pygments_lexer": "ipython3",
   "version": "3.6.8"
  }
 },
 "nbformat": 4,
 "nbformat_minor": 2
}
