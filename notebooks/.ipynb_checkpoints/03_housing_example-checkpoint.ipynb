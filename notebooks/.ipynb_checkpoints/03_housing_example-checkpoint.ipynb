{
 "cells": [
  {
   "cell_type": "markdown",
   "metadata": {},
   "source": [
    "# 03-HOUSING EXAMPLE<img src=\"logo.png\" style=\"float:right; max-width: 180px; display: inline\" alt=\"logo\" /></a>"
   ]
  },
  {
   "cell_type": "markdown",
   "metadata": {
    "collapsed": true,
    "slideshow": {
     "slide_type": "slide"
    }
   },
   "source": [
    "# EMA housing maximum vibration stress variable power-law estimation model\n",
    "\n",
    "*Originally written by Marc Budinger & Christophe Corsi, INSA Toulouse, France*<br>\n",
    "*Adapted to illustrate pyVPLM application case*\n",
    "\n",
    "## 1 - Introduction\n",
    "<a id=\"1\"></a>\n",
    "\n",
    "The trend toward more electric aircraft face the problem with different engineering perspectives (bleedless, hydraulicless, electric-propulsion) to reduce operating costs (maintenance/fuel burn).<br>\n",
    "\n",
    "<figure>\n",
    "    <img src=\"./03_housing_example/ingenium_ema.jpg\" alt=\"EMA_picture\" style=\"height:200px\">\n",
    "    <figcaption>Fig.1 - Ingenium Aerospace EMA for a next generation space vehicle.</figcaption>\n",
    "</figure>\n",
    "\n",
    "Hydrauliless perspective consist in replacing hydraulic network by electric and actuation systems by electromechanical-actuators (EMAs). Yet housing mechanical sizing will now differ from hydraulic actuators that were facing:\n",
    "- maximum stress to resist maximal pressure burst,\n",
    "- stress due to buckling force and bending induced by rod-ends friction,\n",
    "- fatigue when repeating some load cycles.\n",
    "\n",
    "Since new embedded inertia (motor inertia/mass, roller-screw nut mass) will force designer to consider new design scenario:\n",
    "- maximum stress induced by vibratory environment (5Hz-2kHz),\n",
    "- stress indeuced by a maximum speed run-up till end-stops,\n",
    "- additional shearing stress induced by roller-screw friction torque and motor.\n",
    "\n",
    "<figure>\n",
    "    <img src=\"./03_housing_example/ema_loads.png\" alt=\"EMA_loads\" style=\"height:200px\">\n",
    "    <figcaption>Fig.2 - EMA induced loads.</figcaption>\n",
    "</figure>\n",
    "\n",
    "We will illustrate in this notebook how we can construct estimation models to replace costly finite element structural vibration simulation of the EMA housing and more precisely produce an estimate of the maximum stress $\\sigma$ as a function of geometry and material.<br>\n",
    "\n",
    "<font color=blue>Table of contents:</font><br>\n",
    "[1 - Introduction](#1-Introduction)<br>\n",
    "[2 - Mechanical vibration FEM presentation](#2)<br>\n",
    "[3 - Dimensional analysis](#3)<br>\n",
    "[4 - Design of experiments](#4)<br>\n",
    "[5 - Variable power-law model regression](#5)<br>\n",
    "[6 - Use of the surrogate model](#6)<br>\n",
    "\n",
    "> **Note**: to read more about EMA housing design [1] and dimensional analysis [2] consider reading following scientific papers:\n",
    "- [1]: *Preliminary design of aerospace linear actuator housings*, Aircraft Engineering and Aerospace Technology: An International Journal,87,3,224-237, 2015, Emerald Group Publishing Limited\n",
    "- [2]: *Dimensional analysis and surrogate models for the thermal modeling of Multiphysics systems*, Applied Thermal Engineering,110,758-771, 2017, Elsevier"
   ]
  },
  {
   "cell_type": "markdown",
   "metadata": {
    "slideshow": {
     "slide_type": "slide"
    }
   },
   "source": [
    "## 2 - Mechanical vibration FEM presentation [§](#1)\n",
    "<a id=\"2\"></a>\n",
    "\n",
    "We will analyze the vibratory loading problem using the following simplified geometry and assumptions: \n",
    "- 2 hollow cylinders for the housing made of steel (Young modulus $E$, density $\\rho$, quality factor $Q_m$),\n",
    "- 1 full cylinder for the nut (Young modulus $\\frac{E}{10}$ not to participate in housing stiffness, density $\\rho$, quality factor $Q_m$).\n",
    "\n",
    "<figure>\n",
    "    <img src=\"./03_housing_example/ema_FEM.png\" alt=\"EMA_fem\" style=\"height:300px\">\n",
    "    <figcaption>Fig.3 - EMA finite element model and equivalent 1D simplification.</figcaption>\n",
    "</figure>\n",
    "\n",
    "The maximal stress $\\sigma$ is linked to the deplacement $U$:<br>\n",
    "$ \\sigma = k_\\sigma *U= \\sigma_0 *\\frac{U}{U_0}$\n",
    "\n",
    "And the stress can be expressed as follows:\n",
    "$ \\sigma = f(E,d_{rs},L_a,e_1,e_2,L_{rs})*U$"
   ]
  },
  {
   "cell_type": "markdown",
   "metadata": {},
   "source": [
    "## 3 - Dimensional analysis [§](#1)\n",
    "<a id=\"3\"></a>\n",
    "\n",
    "Let us apply Buckingham Theorem (from ***variablepowerlaw*** package) to highlight some dimensionless parameters and try to reduce problem parameters'number."
   ]
  },
  {
   "cell_type": "code",
   "execution_count": null,
   "metadata": {
    "scrolled": false
   },
   "outputs": [],
   "source": [
    "# Import pyVPLM modules/functions\n",
    "from pyvplm.core.definition import PositiveParameter, PositiveParameterSet\n",
    "from pyvplm.addon.variablepowerlaw import buckingham_theorem\n",
    "\n",
    "# Declare physical variables and set\n",
    "E_S = PositiveParameter('E_S', [210e9], 'Pa', 'steel Young modulus')\n",
    "d_rs = PositiveParameter('d_rs', [10e-3, 100e-3],'m','roller-screw nut diameter')\n",
    "e1 = PositiveParameter('e1', [5e-3, 40e-3], 'm', 'smaller diameter housing thikness')\n",
    "e2 = PositiveParameter('e2', [1e-3, 10e-3], 'm', 'bigger diameter housing thikness')\n",
    "RHO = PositiveParameter('RHO', [8.05], 'kg/m^3', 'steel density')\n",
    "L_a = PositiveParameter('L_a', [0.1, 1.2], 'm', 'actuator length')\n",
    "L_rs = PositiveParameter('L_rs', [3e-3, 100e-3], 'm', 'roller-screw nut length')\n",
    "omega0 = PositiveParameter('omega0', [5, 2000], 'rad/s', 'angular resonance pulsation')\n",
    "a = PositiveParameter('a', [0.1, 100], 'm/s^2', 'acceleration rate')\n",
    "sigma = PositiveParameter('sigma', [1e6, 1e9], 'Pa', 'maximal constraint')\n",
    "Q_M = PositiveParameter('Q_M', [2], '', 'quality factor')\n",
    "parameter_set = PositiveParameterSet(E_S, d_rs, e1, e2, L_a, L_rs, RHO, omega0, a, sigma, Q_M)\n",
    "\n",
    "# Define d and lambda_wind to be first elected as repetitive set\n",
    "parameter_set.latex_render()\n",
    "\n",
    "# Calculate pi parameters with first repetitive set found in parameters' order\n",
    "pi_set, _ = buckingham_theorem(parameter_set, track=False)\n",
    "pi_set.latex_render()"
   ]
  },
  {
   "cell_type": "markdown",
   "metadata": {
    "slideshow": {
     "slide_type": "slide"
    }
   },
   "source": [
    "Some $\\pi$ parameters arise in addition to geometric ratios:\n",
    "- $\\pi_{\\omega_0}=\\sqrt{\\pi_4}=\\omega_0 * d_{rs}*\\sqrt{\\frac{\\rho}{E_S}}=f(\\frac{l_a}{d_{rs}},\\frac{l_{rs}}{d_{rs}},\\frac{e_1}{d_{rs}},\\frac{e_2}{d_{rs}})$\n",
    "- $\\pi_{\\sigma}=\\frac{\\pi_5}{\\pi_6}*Q_M=\\frac{\\rho*a*d_{rs}}{\\sigma}*Q_M=g(\\frac{l_a}{d_{rs}},\\frac{l_{rs}}{d_{rs}},\\frac{e_1}{d_{rs}},\\frac{e_2}{d_{rs}})$\n"
   ]
  },
  {
   "cell_type": "markdown",
   "metadata": {},
   "source": [
    "## 4 - Design of experiments [§](#1)\n",
    "<a id=\"4\"></a>\n",
    "\n",
    "Considering previous dimensionless analysis and an homothetic sizing on roller-screw (meaning $\\frac{l_{rs}}{d_{rs}}=cste$ term can be deleted), we will construct the design of experiment with remaining values: $e_1$, $e_2$, $d_{rs}$ and $L_a$.\n",
    "\n",
    "Here we will retrieve the characteristic quantities of the problem and the calculated output in ***./03_housing_example/DataPI0_carter.csv*** file presenting 4 columns:\n",
    "- the 1st column for the dependent variable $\\pi_0=\\pi_{sigma}$,\n",
    "- the 3 other columns that correspond to $L_a/d$, $e_1/d$ and $e_2/d$ the independent quantities of the problem."
   ]
  },
  {
   "cell_type": "code",
   "execution_count": null,
   "metadata": {
    "slideshow": {
     "slide_type": "slide"
    }
   },
   "outputs": [],
   "source": [
    "# Change matplotlib visualisation parameter\n",
    "%matplotlib inline\n",
    "\n",
    "# Import additional libs\n",
    "import pandas\n",
    "import matplotlib.pyplot as plot\n",
    "\n",
    "# Read the .csv file\n",
    "df = pandas.read_csv('./03_housing_example/dataPI0_carter.csv', sep=';')\n",
    "\n",
    "# Print DOE\n",
    "plot.plot(df['e1/d_rs'],df['e2/d_rs'],'r.')\n",
    "plot.xlabel('e1/d_rs')\n",
    "plot.ylabel('e2/d_rs')\n",
    "plot.grid(True)\n",
    "plot.show()\n",
    "plot.plot(df['e1/d_rs'],df['La/d_rs'],'r.')\n",
    "plot.xlabel('e1/d_rs')\n",
    "plot.ylabel('La/d_rs')\n",
    "plot.grid(True)\n",
    "plot.show()\n",
    "plot.plot(df['e2/d_rs'],df['La/d_rs'],'r.')\n",
    "plot.xlabel('e2/d_rs')\n",
    "plot.ylabel('La/d_rs')\n",
    "plot.grid(True)\n",
    "plot.show()\n",
    "\n",
    "# Print the head (first lines of the file)\n",
    "df.head(n=3)"
   ]
  },
  {
   "cell_type": "markdown",
   "metadata": {
    "slideshow": {
     "slide_type": "slide"
    }
   },
   "source": [
    "## 5 - Variable power-law model regression [§](#1)\n",
    "<a id=\"5\"></a>\n",
    "\n",
    "The dependant variable will be approximated here with a linear regression on 2nd order power-law model of the following form: \n",
    "\n",
    "$log(\\pi_0) = a_0 + \\sum\\limits a_ilog(\\pi_i) + \\sum\\limits a_{ij}log(\\pi_{i})log(\\pi_{j}) + \\sum\\limits a_{ii}log(\\pi_i^2)$  \n",
    "\n",
    "Which can be rewritten as:  \n",
    "\n",
    "$\\pi_0 = 10^{a_0}\\prod\\limits_{i=1}^{n} \\pi_i^{a_i + a_{ii}log(\\pi_{i}) + \\sum\\limits_{j=i+1}^{n} a_{ij}log(\\pi_{j})} $  \n",
    "\n",
    "This variable power law form enables to deal with large variation range of dependant and independant variables. "
   ]
  },
  {
   "cell_type": "code",
   "execution_count": null,
   "metadata": {
    "slideshow": {
     "slide_type": "subslide"
    }
   },
   "outputs": [],
   "source": [
    "# Import pyVPLM modules/functions\n",
    "from pyvplm.addon.variablepowerlaw import regression_models\n",
    "\n",
    "# Fit with 2nd order model the obtained Pi DOE\n",
    "doePI = df.values\n",
    "models = regression_models(doePI, elected_pi0='pi1', order=2)"
   ]
  },
  {
   "cell_type": "markdown",
   "metadata": {
    "slideshow": {
     "slide_type": "slide"
    }
   },
   "source": [
    "> **Note**: A way to check the quality of the regression model is to compare the $\\pi_0$ data resulting from FEM simulation to the evaluation of the surrogate model. A perfect surrogate model will look like a $y=x$ curve.\n",
    "To do so, we have to use ***variablepowerlaw.perform_regression*** method.    "
   ]
  },
  {
   "cell_type": "code",
   "execution_count": null,
   "metadata": {},
   "outputs": [],
   "source": [
    "# Import pyVPLM modules/functions\n",
    "from pyvplm.addon.variablepowerlaw import perform_regression\n",
    "\n",
    "# Plot advanced result for model n°4\n",
    "perform_regression(doePI, models, choosen_model=4)"
   ]
  },
  {
   "cell_type": "markdown",
   "metadata": {
    "slideshow": {
     "slide_type": "slide"
    }
   },
   "source": [
    "## 6 - Use of the surrogate model [§](#1)\n",
    "<a id=\"6\"></a>\n",
    "\n",
    "We illustrate here the use of the created surrogate model n°10 to estimate the maximum induced stress on given geometry."
   ]
  },
  {
   "cell_type": "code",
   "execution_count": null,
   "metadata": {},
   "outputs": [],
   "source": [
    "# Import additional libs\n",
    "from numpy import log10\n",
    "\n",
    "# Define geometry an material\n",
    "d_rs = 0.09#[m] roller-screw nut diameter\n",
    "la = .9#[m] actuator length\n",
    "e1 = 0.01#[m] Road thickness\n",
    "e2 = 0.005#[m] Housing thickness\n",
    "Qm=30#[-] Mechanical quality coef\n",
    "rho=7800#[kg/m^3] Volumic mass\n",
    "a=20*9.8#[m/s^2] Acceleration\n",
    "\n",
    "# Pi calculation\n",
    "pi2 = la/d_rs\n",
    "pi3 = e1/d_rs\n",
    "pi4 = e2/d_rs\n",
    "expression = '10**(1.28187-0.60263*log10(pi3)+0.80237*log10(pi4)+0.83024*log10(pi2)+0.40250*log10(pi2)**2+0.07760*log10(pi2)*log10(pi4)+0.08495*log10(pi2)*log10(pi3)+0.27216*log10(pi4)**2+0.13195*log10(pi3)**2-0.21442*log10(pi3)*log10(pi4))'\n",
    "pi1 = eval(expression)\n",
    "sigma = pi1*Qm*d_rs*rho*a\n",
    "\n",
    "# Display result\n",
    "print(\"Estimated max stress is: %.0f MPa\"%(sigma/1e6))"
   ]
  },
  {
   "cell_type": "markdown",
   "metadata": {},
   "source": [
    "## Note\n",
    "\n",
    "To obtain help on SizingLab packages, acces the interactive help web page running following code:"
   ]
  },
  {
   "cell_type": "code",
   "execution_count": null,
   "metadata": {},
   "outputs": [],
   "source": [
    "import webbrowser, os\n",
    "new = 2\n",
    "url = 'file://' + os.path.realpath(os.path.abspath('../../../build/index.html'))\n",
    "url = url.replace('\\\\','/')\n",
    "webbrowser.open(url,new=new)"
   ]
  }
 ],
 "metadata": {
  "celltoolbar": "Slideshow",
  "kernelspec": {
   "display_name": "Python 3",
   "language": "python",
   "name": "python3"
  },
  "language_info": {
   "codemirror_mode": {
    "name": "ipython",
    "version": 3
   },
   "file_extension": ".py",
   "mimetype": "text/x-python",
   "name": "python",
   "nbconvert_exporter": "python",
   "pygments_lexer": "ipython3",
   "version": "3.6.8"
  }
 },
 "nbformat": 4,
 "nbformat_minor": 2
}
