{
 "cells": [
  {
   "cell_type": "markdown",
   "metadata": {
    "slideshow": {
     "slide_type": "slide"
    }
   },
   "source": [
    "# 01-INDUCTOR EXAMPLE<img src=\"logo.png\" style=\"float:right; max-width: 180px; display: inline\" alt=\"logo\" /></a>"
   ]
  },
  {
   "cell_type": "markdown",
   "metadata": {
    "slideshow": {
     "slide_type": "slide"
    }
   },
   "source": [
    "# Inductor thermal resistance estimation models with dimensional analysis and power-law model regression\n",
    "*Originally written by Marc Budinger, INSA Toulouse, France*<br>\n",
    "*Adapted to illustrate pyVPLM application case*\n",
    "\n",
    "## 1 - Introduction\n",
    "<a id=\"1\"></a>\n",
    "\n",
    "Transportation system is facing changes with greener (lower consumption, better depollution systems) and more electic (hybrid) or even totally electric vehicles.<br>\n",
    "The [WATT system](http://www.pvi.fr/wattsystem-watt-system,172.html) developped by PVI company is a perfect illustration of electric mobility with electric buses (using batteries and supercapacitor) and a specific infrastructure with stop station equiped with fast chage connector (also using capacitors).<br>\n",
    "\n",
    "<figure>\n",
    "    <img src=\"./01_inductor_example/watt_system.jpg\" alt=\"WATT\" style=\"height:200px\">\n",
    "    <figcaption>Fig.1 - WATT system tested in Nice airport.</figcaption>\n",
    "</figure>\n",
    "\n",
    "As soon as variable voltage energy storage is used, DC-DC converter are employed. Those conversers made of: inductor, IGBT, capacitor and cooling system (heatsink equiped with fans) should be designed by electric specialist (on frequency, filtering, transient power and energy loss) but also thermal engineers.<br>\n",
    "\n",
    "We will illustrate in this notebook how we can construct estimation models to replace costly finite element thermal simulation of the insulator and more precisely produce an estimate of the $R_th$ thermal resistance as a function of geometry and materials.<br>\n",
    "\n",
    "This is very interesting for various reasons:\n",
    "- The global system optimised design calculation time will drop drastically,\n",
    "- Engineers (even from different expertise domains) will have an idea of the influencing parameters (design drivers) and their impact,\n",
    "- The obtained formulation represent knowledge that can be disseminated and used without any software licence.\n",
    "\n",
    "<font color=blue>Table of contents:</font><br>\n",
    "[1 - Introduction](#1-Introduction)<br>\n",
    "[2 - Thermal FEM presentation](#2)<br>\n",
    "[3 - Buckingham theorem and dimensional analysis](#3)<br>\n",
    "[4 - Design of experiments](#4)<br>\n",
    "[5 - Variable power-law model regression](#5)"
   ]
  },
  {
   "cell_type": "markdown",
   "metadata": {},
   "source": [
    "## 2 - Thermal FEM presentation [§](#1)\n",
    "<a id=\"2\"></a>\n",
    "\n",
    "To estimate inductor thermal resistance, a 2D finite element model on COMSOL (P-type core, other forms could be find [here](https://www.ferroxcube.com)) is developped, with following assumptions:\n",
    "- the convective heat transfer is negligible compared to the conduction with heatsink (trough lower base)\n",
    "- the base junction temparature is constant and fixed to 300 Kelvins (no influence on conductive resistance but necessary to calculate hot spot temperature)\n",
    "- the winding can be represented by an equivalent homogenous thermal conductivity\n",
    "\n",
    "<figure>\n",
    "    <img src=\"./01_inductor_example/FEM.png\" alt=\"FEM\" style=\"height:400px\">    \n",
    "    <figcaption>Fig.2 - Insulator FEM.</figcaption>\n",
    "</figure>\n",
    "\n",
    "> **Note**: Following table shows the impact of materials on thermal transfert optimization. Configuration (3) is considered for our simulations.\n",
    ">\n",
    "|   Central Axis     | Airgap  | Hot spot Temperature |\n",
    "| -------------- | --------------| -----------|\n",
    "| Air | Air       | 122 °C            |\n",
    "| Air | Resin   | 90 °C |\n",
    "| Aluminum   | Resin  | 61 °C | \n",
    "\n",
    "<br>\n",
    "<figcaption>Tab.1 - Insulator material optimization (P=36W, airgap=1mm, D=100mm).</figcaption>"
   ]
  },
  {
   "cell_type": "markdown",
   "metadata": {},
   "source": [
    "## 3 - Buckingham theorem and dimensional analysis [§](#1)\n",
    "<a id=\"3\"></a>\n",
    "\n",
    "FEM is defined using a lot of parameters:\n",
    "- Geometrical: $D_1$, $D_2$,...,$H_i$, $e$\n",
    "- Material (conductivity): $\\lambda_{winding}$, $\\lambda_{FERRITE}$\n",
    "- Thermal/power-loss density conditions: $T_{base} = 300K$, $\\delta=P/V_{winding}=cste$\n",
    "\n",
    "To reduce regression model handled parameters, we will first consider that (exept for airgap), geometry evolution is homotetic:<br>\n",
    "$\\frac{D_1}{D_4,ref}=\\frac{D_2}{D_4,ref}=\\frac{D_3}{D_4,ref}=\\frac{D_1}{D_4,ref}=\\frac{H_i}{D_4,ref}=\\frac{D_4}{D_4,ref}$\n",
    "\n",
    "Where ref represent reference component. Therefore, considering $D=D_4$, the thermal resistance can be expressed as follows:<br>\n",
    "$R_{th}=f(D,e,\\lambda_{winding},\\lambda_{FERRITE})$<br>\n",
    "\n",
    "But applying [Buckingham theorem](https://en.wikipedia.org/wiki/Buckingham_%CF%80_theorem) can even reduce this expression handling limited number of dimensionless parameters.\n",
    "\n",
    "> **Exercice**: Reduce the number of variables to manipulate applying the **buckingham_theorem** from **SizingLab.variablepowerlaw** package. Give expression of $\\pi_i$ numbers. You can vary expressions using different repetitive sets (*see first method from **PositiveParameterSet** Class*)<br>"
   ]
  },
  {
   "cell_type": "code",
   "execution_count": null,
   "metadata": {},
   "outputs": [],
   "source": [
    "# Import pyVPLM modules/functions\n",
    "from pyvplm.core.definition import PositiveParameter, PositiveParameterSet\n",
    "from pyvplm.addon.variablepowerlaw import buckingham_theorem\n",
    "\n",
    "# Declare physical variables and set\n",
    "rth = PositiveParameter('rth', [0.01, 100], 'K/W', 'thermal resistance hot spot/base')\n",
    "d = PositiveParameter('d', [10e-3, 150e-3],'m','pot external diameter')\n",
    "e = PositiveParameter('e', [.1e-3, 10e-3], 'm', 'airgap thickness')\n",
    "LAMBDA_FERRITE = PositiveParameter('LAMBDA_FERRITE', [5], 'W/m/K', 'thermal conductivity for ferrite')\n",
    "lambda_wind = PositiveParameter('lambda_wind', [.1, 3], 'W/(m*K)', 'equivalent thermal conductivity for winding')\n",
    "parameter_set = PositiveParameterSet(rth, d, e, lambda_wind,  LAMBDA_FERRITE)\n",
    "\n",
    "# Define d and lambda_wind to be first elected as repetitive set\n",
    "parameter_set.first('d', 'lambda_wind')\n",
    "parameter_set.latex_render()\n",
    "\n",
    "# Calculate pi parameters with first repetitive set found in parameters' order\n",
    "pi_set, _ = buckingham_theorem(parameter_set, track=False)\n",
    "pi_set.latex_render()"
   ]
  },
  {
   "cell_type": "markdown",
   "metadata": {},
   "source": [
    "To obtain different $\\pi$ set expressions you can use the **automatic_buckingham** function and elect expression afterwards.\n",
    "\n",
    "> **Note**: This step is optional, and if previous expressions fit your need just skip to §4 and avoid long calculation time to evaluate all the alternative repetitive sets."
   ]
  },
  {
   "cell_type": "code",
   "execution_count": null,
   "metadata": {},
   "outputs": [],
   "source": [
    "# Import pyVPLM modules/functions\n",
    "from pyvplm.addon.variablepowerlaw import automatic_buckingham\n",
    "\n",
    "# Import additional libs\n",
    "import ipywidgets as widgets\n",
    "\n",
    "# Compute automatic search of pi [step that may take a while, so be patient]\n",
    "combinatory_pi_set, exp_dict = automatic_buckingham(parameter_set, track=False)\n",
    "    \n",
    "# Create and display widget\n",
    "pi_set_number = widgets.Dropdown(options=exp_dict, description='Choose Pi Set')\n",
    "display(pi_set_number)"
   ]
  },
  {
   "cell_type": "code",
   "execution_count": null,
   "metadata": {},
   "outputs": [],
   "source": [
    "# Display selected pi set\n",
    "pi_set = combinatory_pi_set[pi_set_number.value][0]\n",
    "pi_set.latex_render()"
   ]
  },
  {
   "cell_type": "markdown",
   "metadata": {},
   "source": [
    "## 4 - Design of experiments [§](#1)\n",
    "<a id=\"4\"></a>\n",
    "\n",
    "As we want an estimate of the $R_{th}$ parameter, we will have to construct a [DOE](https://en.wikipedia.org/wiki/Design_of_experiments) on the different physical parameters that are covering \"quite well\" the Pi space.<br>\n",
    "A good coverage is considered with [fullfact](https://en.wikipedia.org/wiki/Factorial_experiment) DOE on logarithmic values of $\\pi$: this can be done using **pixdoe.create_const_doe** method."
   ]
  },
  {
   "cell_type": "code",
   "execution_count": null,
   "metadata": {},
   "outputs": [],
   "source": [
    "# Change matplotlib visualisation parameter\n",
    "%matplotlib inline\n",
    "\n",
    "# Import pyVPLM modules/functions\n",
    "from pyvplm.core.definition import Constraint, ConstraintSet\n",
    "from pyvplm.addon.pixdoe import create_const_doe\n",
    "from pyvplm.addon.variablepowerlaw import declare_func_x_to_pi, reduce_parameter_set, declare_constraints\n",
    "from pyvplm.addon.comsoladdon import save_file\n",
    "\n",
    "# Import pandas\n",
    "import pandas\n",
    "\n",
    "# Extract Pi0 and Rth before calculating DOE\n",
    "reduced_parameter_set, reduced_pi_set = reduce_parameter_set(parameter_set, pi_set, elected_output='rth')\n",
    "reduced_pi_set.latex_render()\n",
    "reduced_parameter_set.latex_render()\n",
    "\n",
    "# Add dimensional constraints <=> e/d=pi2<=0.1\n",
    "constraint1 = Constraint('e/d<=0.1')\n",
    "parameters_constraints = declare_constraints(reduced_parameter_set, ConstraintSet(constraint1))\n",
    "\n",
    "# Save function to translate x parameters to pi parameters\n",
    "func_x_to_pi = declare_func_x_to_pi(reduced_parameter_set, reduced_pi_set)\n",
    "\n",
    "# Generate at least 50 points DOE on physical parameters to have proper fullfact doe on PI (distance criteria is 1/5 and 3 points elected)\n",
    "doeX, _ = create_const_doe(reduced_parameter_set, reduced_pi_set, func_x_to_pi, whished_size=50, parameters_constraints = parameters_constraints)\n",
    "\n",
    "# Save .txt file compatible with COMSOL\n",
    "file_name = './01_inductor_example/input_01'\n",
    "save_file(doeX, file_name, reduced_parameter_set, is_SI=True)"
   ]
  },
  {
   "cell_type": "markdown",
   "metadata": {},
   "source": [
    "> *Note:<br>\n",
    "The calculated DOE is expressed in SI units and not defined units, therefore is_SI parameter for save_csv function must be set to* ***True***"
   ]
  },
  {
   "cell_type": "markdown",
   "metadata": {},
   "source": [
    "## 5 - Variable power-law model regression [§](#1)\n",
    "<a id=\"5\"></a>\n",
    "\n",
    "Multiple Comsol FEM simulations have been performed on DOE generated in [§4](#4).<br>\n",
    "The COMSOL result file ***./01_inductor_example/output_01.txt*** summarizes usefull data. Let us display it and then perform post-processing to obtain $R_{th}$ as the ratio of temperature drop to power loss."
   ]
  },
  {
   "cell_type": "code",
   "execution_count": null,
   "metadata": {},
   "outputs": [],
   "source": [
    "# Import pyVPLM modules/functions\n",
    "from pyvplm.addon.comsoladdon import import_file\n",
    "\n",
    "# Import FEM thermal simulations results and plot 3 first points\n",
    "doeX_FEM = import_file('./01_inductor_example/output_01', parameter_set, units='from_file')\n",
    "doeX_FEM.head(n=3)"
   ]
  },
  {
   "cell_type": "code",
   "execution_count": null,
   "metadata": {},
   "outputs": [],
   "source": [
    "# Make little post-processing by replacing power loss and temperature drop by Rth:\n",
    "doeX_FEM['rth'] = (doeX_FEM['Temperature [K]']-300)/doeX_FEM['Total_heat_source [W]']\n",
    "doeX_FEM = doeX_FEM.drop(columns=['Total_heat_source [W]','Temperature [K]'])\n",
    "doeX_FEM = doeX_FEM[list(parameter_set.dictionary.keys())]\n",
    "doeX_FEM.head(n=5)"
   ]
  },
  {
   "cell_type": "markdown",
   "metadata": {},
   "source": [
    "We want to perform a linear regression to determine $a$ coefficients of the estimation model:<br>\n",
    "$\\pi_{0}=\\pi_{1}=f(\\pi_{2},\\pi_{3})=10^{a_{1}}*\\pi_{2}^{a_{2}+a_{22}*log(\\pi_{2})+a_{23}*log(\\pi_{3})}*\\pi_{3}^{a_{3}+a_{33}*log(\\pi_{3})}$\n",
    "\n",
    "Which can be written in log as:<br>\n",
    "$log(\\pi_{1})=a_{1}+a_{2}*log(\\pi_{2})+a_{22}*log(\\pi_{2})^2+a_{23}*log(\\pi_{2})*log(\\pi_{3})+a_{3}*log(\\pi_{3})+a_{33}*log(\\pi_{3})^2$\n",
    "\n",
    "> **Exercice**: Use **variablepowerlaw.regression_models** method to fit results."
   ]
  },
  {
   "cell_type": "code",
   "execution_count": null,
   "metadata": {},
   "outputs": [],
   "source": [
    "# Import pyVPLM modules/functions\n",
    "from pyvplm.addon.variablepowerlaw import declare_func_x_to_pi, regression_models\n",
    "\n",
    "# Define transformation function with full set that time\n",
    "func_x_to_pi = declare_func_x_to_pi(parameter_set, pi_set)\n",
    "\n",
    "# Fit with 2nd order model the obtained Pi DOE\n",
    "doePI = func_x_to_pi(doeX_FEM.values)\n",
    "models = regression_models(doePI, elected_pi0='pi1', order=2)"
   ]
  },
  {
   "cell_type": "code",
   "execution_count": null,
   "metadata": {},
   "outputs": [],
   "source": [
    "# Import pyVPLM modules/functions\n",
    "from pyvplm.addon.variablepowerlaw import perform_regression\n",
    "\n",
    "# Plot advanced result for model n°5\n",
    "perform_regression(doePI, models, choosen_model=5, latex=False)"
   ]
  },
  {
   "cell_type": "markdown",
   "metadata": {},
   "source": [
    "> **Conclusion**: The model fidelity is quite good and this obtained simple expression can be used to calculate formal derivative for optimization problem.\n",
    "\n",
    "## Annex : thermal conductivity \n",
    "\n",
    "|   Material    | Thermal conductivity |\n",
    "| -------------- | --------------|\n",
    "| Copper | 400 W/(mK)            |\n",
    "| Aluminum  | 200 W/(mK) |\n",
    "| Air   | 0.03 W/(mK) | \n",
    "| Ferrite   | 5 W/(mK) | \n",
    "| Resin   | 0.25 W/(mK) |\n",
    "| Copper+Resin(*)   | 0.5 W/(mK) | \n",
    "\n",
    "(*) for a mix of 33% copper, 66% resin\n",
    "\n",
    "## Note\n",
    "\n",
    "To obtain help on SizingLab packages, acces the interactive help web page running following code:"
   ]
  },
  {
   "cell_type": "code",
   "execution_count": null,
   "metadata": {},
   "outputs": [],
   "source": [
    "import webbrowser, os\n",
    "new = 2\n",
    "url = 'file://' + os.path.realpath(os.path.abspath('../../../build/index.html'))\n",
    "url = url.replace('\\\\','/')\n",
    "webbrowser.open(url,new=new)"
   ]
  }
 ],
 "metadata": {
  "celltoolbar": "Slideshow",
  "kernelspec": {
   "display_name": "Python 3",
   "language": "python",
   "name": "python3"
  },
  "language_info": {
   "codemirror_mode": {
    "name": "ipython",
    "version": 3
   },
   "file_extension": ".py",
   "mimetype": "text/x-python",
   "name": "python",
   "nbconvert_exporter": "python",
   "pygments_lexer": "ipython3",
   "version": "3.7.3"
  }
 },
 "nbformat": 4,
 "nbformat_minor": 2
}
