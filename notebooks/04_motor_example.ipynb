{
 "cells": [
  {
   "cell_type": "markdown",
   "metadata": {
    "slideshow": {
     "slide_type": "slide"
    }
   },
   "source": [
    "# 04-STATOR PERMANENT MAGNET MOTOR EXAMPLE<img src=\"logo.png\" style=\"float:right; max-width: 180px; display: inline\" alt=\"logo\" /></a>"
   ]
  },
  {
   "cell_type": "markdown",
   "metadata": {
    "slideshow": {
     "slide_type": "slide"
    }
   },
   "source": [
    "# Motor estimation models with dimensional analysis and sensitivity/dependency analysis\n",
    "*Originally written by Aurelien Reysset, INSA Toulouse, France*<br>\n",
    "\n",
    "## 1 - Introduction\n",
    "<a id=\"1\"></a>\n",
    "\n",
    "Motor design is carried out by specialists and depend on the fullfilled missions. Even considering a defined set of materials, geometry can be adapted with a lot of internal parametrized components forms to answer performance needs. Here, those needs will be limited to different diameters (integration limit), speed limits (high/low speed demand) and thermal conductivity factors (high/low dynamics applications) with a common objective: optimizing linear-torque density.\n",
    "\n",
    "At the early stages of a project assesment, it is combersome to handle lots of parameters and high-fidelity models (long simulation time). Therefore, in this Notebook, we will see how we can reduce problem complexity even before constructing response surface on the complete set of dimensionless parameters.\n",
    "\n",
    "First we will analyse problem dimensionnality to work only with dimensionless parameters, then we will provide a FEM model within FEMM software using a python script to design and calculate motor performances (used to calculate the set used for sensitivity analysis), and finally the sensitivity and dependency analysis using SizingLab tools will be presented.\n",
    "\n",
    "<font color=blue>Table of contents:</font><br>\n",
    "[1 - Introduction](#1-Introduction)<br>\n",
    "[2 - Dimensional analysis](#2)<br>\n",
    "[3 - Specialist optimized design with FEMM](#3)<br>\n",
    "[4 - Analyse $\\pi$ sensitivity on reduced DOE](#4)<br>"
   ]
  },
  {
   "cell_type": "markdown",
   "metadata": {},
   "source": [
    "## 2 - Dimensional analysis [§](#1)\n",
    "<a id=\"2\"></a>\n",
    "\n",
    "The main design parameters for a permanent magnet motor are summed-up in next table:\n",
    "\n",
    "|   Parameter     | Description  | Units |\n",
    "| -------------- | --------------| -----------|\n",
    "|$D_E$|External stator diameter|[mm]|\n",
    "|$D_I$|Internal stator diameter|[mm]|\n",
    "|$e_{tooth}$|Tooth thikness|[mm]|\n",
    "|$e_{yoke}$|Tooth thikness|[mm]|\n",
    "|$W_{PM}$|Permanent magnet width|[mm]|\n",
    "|$R_I$|Rotor internal radius|[mm]|\n",
    "|$J$|Winding current density|[A/m²]|\n",
    "|$B_R$|Permanent magnet remanence|[tesla]|\n",
    "|$B_{SAT}$|Iron induction saturation|[tesla]|\n",
    "|$\\mu_0$|Vacuum permeability|[H/m]|\n",
    "| |\n",
    "|$T_L$|Linear torque|[N]|\n",
    "| |\n",
    "|$P_{J,L}$|Linear joule losses|[W/m]|\n",
    "|$\\rho_{WIND}$|Linear winding resistivity|[Ohm.m]|\n",
    "|$S_{WIND}$|Winding total cross section|[mm²]|\n",
    "\n",
    "<figcaption>Tab.1 - SPM design parameters.</figcaption>\n",
    "\n",
    "\n",
    "<figure>\n",
    "    <img src=\"./04_motor_example/spm_geometry.png\" alt=\"SPM_geometry\" style=\"height:200px\">\n",
    "    <figcaption>Fig.1 - SPM motor geometry.</figcaption>\n",
    "</figure>\n",
    "\n",
    "> Note: perform a dimensional analysis on linear torque using SizingLab Buckingham function."
   ]
  },
  {
   "cell_type": "code",
   "execution_count": 1,
   "metadata": {},
   "outputs": [
    {
     "name": "stdout",
     "output_type": "stream",
     "text": [
      "Defined set is:\n"
     ]
    },
    {
     "data": {
      "text/latex": [
       "$\\displaystyle \\pi_{1} \\in [4.00E-03,4.00E-01], \\pi_{1}=\\frac{e_{yoke}^{1.0}}{d_{e}^{1.0}}$"
      ],
      "text/plain": [
       "<IPython.core.display.Math object>"
      ]
     },
     "metadata": {},
     "output_type": "display_data"
    },
    {
     "data": {
      "text/latex": [
       "$\\displaystyle \\pi_{2} \\in [4.00E-03,4.00E-01], \\pi_{2}=\\frac{w_{pm}^{1.0}}{d_{e}^{1.0}}$"
      ],
      "text/plain": [
       "<IPython.core.display.Math object>"
      ]
     },
     "metadata": {},
     "output_type": "display_data"
    },
    {
     "data": {
      "text/latex": [
       "$\\displaystyle \\pi_{3} \\in [1.00E-02,2.00E+00], \\pi_{3}=\\frac{r_{i}^{1.0}}{d_{e}^{1.0}}$"
      ],
      "text/plain": [
       "<IPython.core.display.Math object>"
      ]
     },
     "metadata": {},
     "output_type": "display_data"
    },
    {
     "data": {
      "text/latex": [
       "$\\displaystyle \\pi_{4} \\in [4.00E-02,6.00E+00], \\pi_{4}=\\frac{d_{i}^{1.0}}{d_{e}^{1.0}}$"
      ],
      "text/plain": [
       "<IPython.core.display.Math object>"
      ]
     },
     "metadata": {},
     "output_type": "display_data"
    },
    {
     "data": {
      "text/latex": [
       "$\\displaystyle \\pi_{5} \\in [6.00E-03,1.20E+00], \\pi_{5}=\\frac{e_{tooth}^{1.0}}{d_{e}^{1.0}}$"
      ],
      "text/plain": [
       "<IPython.core.display.Math object>"
      ]
     },
     "metadata": {},
     "output_type": "display_data"
    },
    {
     "data": {
      "text/latex": [
       "$\\displaystyle \\pi_{6} = 1.82E-02, \\pi_{6}=\\frac{B_{SAT}^{1.0}}{B_{R}^{1.0}}$"
      ],
      "text/plain": [
       "<IPython.core.display.Math object>"
      ]
     },
     "metadata": {},
     "output_type": "display_data"
    },
    {
     "data": {
      "text/latex": [
       "$\\displaystyle \\pi_{7} \\in [5.73E-09,5.73E-04], \\pi_{7}=\\frac{\\mu_{0}^{1.0} d_{e}^{1.0} j^{1.0}}{B_{R}^{1.0}}$"
      ],
      "text/plain": [
       "<IPython.core.display.Math object>"
      ]
     },
     "metadata": {},
     "output_type": "display_data"
    },
    {
     "data": {
      "text/latex": [
       "$\\displaystyle \\pi_{8} \\in [1.38E-07,1.38E+04], \\pi_{8}=\\frac{B_{R}^{1.0} d_{e}^{3.0} j^{1.0}}{t_{l}^{1.0}}$"
      ],
      "text/plain": [
       "<IPython.core.display.Math object>"
      ]
     },
     "metadata": {},
     "output_type": "display_data"
    },
    {
     "name": "stdout",
     "output_type": "stream",
     "text": [
      "\n"
     ]
    }
   ],
   "source": [
    "# Import pyVPLM modules/functions\n",
    "from pyvplm.core.definition import PositiveParameter, PositiveParameterSet\n",
    "from pyvplm.addon.variablepowerlaw import buckingham_theorem\n",
    "\n",
    "# Define SPM design parameters\n",
    "d_e = PositiveParameter('d_e',[50,500],'mm','External stator diameter')\n",
    "d_i = PositiveParameter('d_i',[20,300],'mm','Internal stator diameter')\n",
    "e_tooth = PositiveParameter('e_tooth',[3,60],'mm','Tooth thikness')\n",
    "e_yoke = PositiveParameter('e_yoke',[2,20],'mm','Yoke thikness')\n",
    "w_pm = PositiveParameter('w_pm',[2,20],'mm','Permanent magnet width')\n",
    "r_i = PositiveParameter('r_i',[5,100],'mm','Rotor internal radius')\n",
    "j = PositiveParameter('j',[0.1,1000],'A/m**2','Winding current density')\n",
    "B_R = PositiveParameter('B_R',[1.1],'tesla','Permanent magnet remanence')\n",
    "B_SAT = PositiveParameter('B_SAT',[0.02],'tesla','Iron induction saturation')\n",
    "MU_0 = PositiveParameter('MU_0',[1.26e-6],'H/m','Vacuum permeability')\n",
    "t_l = PositiveParameter('t_l',[0.01,100],'N','Linear torque')\n",
    "parameter_set = PositiveParameterSet(d_e,d_i,e_tooth,e_yoke,w_pm,r_i,j,B_R,B_SAT,MU_0,t_l)\n",
    "\n",
    "# Perform dimensional analysis on linear torque\n",
    "pi_set, _ = buckingham_theorem(parameter_set, False)\n",
    "pi_set.latex_render()"
   ]
  },
  {
   "cell_type": "markdown",
   "metadata": {},
   "source": [
    "> Note: perform similar analysis but that time applied to joule losses."
   ]
  },
  {
   "cell_type": "code",
   "execution_count": 2,
   "metadata": {},
   "outputs": [
    {
     "name": "stdout",
     "output_type": "stream",
     "text": [
      "Defined set is:\n"
     ]
    },
    {
     "data": {
      "text/latex": [
       "$\\displaystyle \\pi_{1} \\in [4.00E-03,4.00E-01], \\pi_{1}=\\frac{w_{pm}^{1.0}}{d_{e}^{1.0}}$"
      ],
      "text/plain": [
       "<IPython.core.display.Math object>"
      ]
     },
     "metadata": {},
     "output_type": "display_data"
    },
    {
     "data": {
      "text/latex": [
       "$\\displaystyle \\pi_{2} \\in [1.00E-02,2.00E+00], \\pi_{2}=\\frac{r_{i}^{1.0}}{d_{e}^{1.0}}$"
      ],
      "text/plain": [
       "<IPython.core.display.Math object>"
      ]
     },
     "metadata": {},
     "output_type": "display_data"
    },
    {
     "data": {
      "text/latex": [
       "$\\displaystyle \\pi_{3} \\in [4.00E-02,6.00E+00], \\pi_{3}=\\frac{d_{i}^{1.0}}{d_{e}^{1.0}}$"
      ],
      "text/plain": [
       "<IPython.core.display.Math object>"
      ]
     },
     "metadata": {},
     "output_type": "display_data"
    },
    {
     "data": {
      "text/latex": [
       "$\\displaystyle \\pi_{4} \\in [6.00E-03,1.20E+00], \\pi_{4}=\\frac{e_{tooth}^{1.0}}{d_{e}^{1.0}}$"
      ],
      "text/plain": [
       "<IPython.core.display.Math object>"
      ]
     },
     "metadata": {},
     "output_type": "display_data"
    },
    {
     "data": {
      "text/latex": [
       "$\\displaystyle \\pi_{5} = 1.82E-02, \\pi_{5}=\\frac{B_{SAT}^{1.0}}{B_{R}^{1.0}}$"
      ],
      "text/plain": [
       "<IPython.core.display.Math object>"
      ]
     },
     "metadata": {},
     "output_type": "display_data"
    },
    {
     "data": {
      "text/latex": [
       "$\\displaystyle \\pi_{6} \\in [5.73E-09,5.73E-04], \\pi_{6}=\\frac{\\mu_{0}^{1.0} d_{e}^{1.0} j^{1.0}}{B_{R}^{1.0}}$"
      ],
      "text/plain": [
       "<IPython.core.display.Math object>"
      ]
     },
     "metadata": {},
     "output_type": "display_data"
    },
    {
     "data": {
      "text/latex": [
       "$\\displaystyle \\pi_{7} \\in [4.00E-03,4.00E-01], \\pi_{7}=\\frac{e_{yoke}^{1.0}}{d_{e}^{1.0}}$"
      ],
      "text/plain": [
       "<IPython.core.display.Math object>"
      ]
     },
     "metadata": {},
     "output_type": "display_data"
    },
    {
     "data": {
      "text/latex": [
       "$\\displaystyle \\pi_{8} \\in [4.00E-06,4.00E-02], \\pi_{8}=\\frac{s_{wind}^{1.0}}{d_{e}^{2.0}}$"
      ],
      "text/plain": [
       "<IPython.core.display.Math object>"
      ]
     },
     "metadata": {},
     "output_type": "display_data"
    },
    {
     "data": {
      "text/latex": [
       "$\\displaystyle \\pi_{9} \\in [4.25E-04,4.25E+11], \\pi_{9}=\\frac{\\rho_{WIND}^{1.0} d_{e}^{2.0} j^{2.0}}{p_{jl}^{1.0}}$"
      ],
      "text/plain": [
       "<IPython.core.display.Math object>"
      ]
     },
     "metadata": {},
     "output_type": "display_data"
    },
    {
     "name": "stdout",
     "output_type": "stream",
     "text": [
      "\n"
     ]
    }
   ],
   "source": [
    "# Define new parameters for joule losses definition\n",
    "p_jl = PositiveParameter('p_jl',[0.01,1000],'W/m','Linear joule losses')\n",
    "RHO_WIND = PositiveParameter('RHO_WIND',[17000],'ohm*m','Linear winding resistivity')\n",
    "s_wind = PositiveParameter('s_wind',[1,100],'mm**2','Winding total cross section')\n",
    "parameter_set = PositiveParameterSet(d_e,d_i,e_tooth,e_yoke,w_pm,r_i,j,B_R,B_SAT,MU_0,RHO_WIND,s_wind,p_jl)\n",
    "\n",
    "# Perform dimensional analysis on joule losses\n",
    "pi_set, _ = buckingham_theorem(parameter_set, False)\n",
    "pi_set.latex_render()"
   ]
  },
  {
   "cell_type": "markdown",
   "metadata": {},
   "source": [
    "The retained $\\Pi$ parameters have been arranged and numbered in the followin table:\n",
    "\n",
    "|Parameter|$\\pi_{0,1}$|$\\pi_{0,2}$|$\\pi_1$|$\\pi_2$|$\\pi_3$|$\\pi_4$|$\\pi_5$|$\\pi_6$|$\\pi_7$|\n",
    "| --------|-----------|-----------|-------|-------|-------|-------|-------|-------|-------|\n",
    "|Expression|$\\frac{T_L}{B_{SAT} \\cdot d_e^3 \\cdot J}$|$\\frac{P_{J,L}}{\\rho_{WIND} \\cdot S_{wind} \\cdot J^2}$|$\\frac{\\mu_0 \\cdot d_e \\cdot J}{B_{SAT}}$|$\\frac{D_i}{D_e}$|$\\frac{e_{tooth}}{\\frac{\\pi.D_e}{N}}$|$\\frac{e_{yoke}}{\\frac{\\pi.D_e}{N}}$|$\\frac{W_{PM}}{D_e}$|$\\frac{R_i}{D_e}$|$\\frac{B_r}{B_{SAT}}=cste$|\n",
    "\n",
    "<figcaption>Tab.2 - SPM pi parameters.</figcaption>\n",
    "\n",
    "The adaptation of $\\pi_3$ and $\\pi_4$ leads to more sense since term $\\frac{\\pi.D_e}{N}$ is motor step.\n",
    "One last primary parameter that should be estimated is iron losses which is partly due to hysteresis losses and the other part to eddy current losses in the stator core.\n",
    "\n",
    "$P_{eddy}[W/kg]=\\frac{\\pi^2.B[tesla]^2.d[m]^2.f[Hz]^2}{6.\\rho_{iron}[Ohm.m].d_{iron}[kg/m^3]}$ with $d$ the laminate thikness, $f$ the switching frequency proportional to rotational speed $\\omega$, $\\rho_{iron}$ and $d_{iron}$ material properties (resistivity and density).\n",
    "\n",
    "This can be expressed into volumic/linear losses:\n",
    "$P_{e,v}[W/m^3]=\\frac{\\pi^2.B[tesla]^2.d[m]^2.f[Hz]^2}{6.\\rho_{iron}[Ohm.m]} \\implies P_{e,l}[W/m]=k_e.B^2.d^2.f^2.S_{iron}$\n",
    "\n",
    "The volumic losses due to hysteresis derive from Steinmetz's equation:\n",
    "$P_{h,v}[W/m^3]=k_h.f[Hz]^a.B[tesla]^b \\implies P_{h,l}[W/m]=S_{iron}.k_h.f[Hz]^a.B[tesla]^b$ with $k_h$, $a$ and $b$ fitted with material hysteresis properties ($a \\approx 1$ and $b \\approx 2$ for pure hysteresis).\n",
    "\n",
    "But the combination of both fenomena can be hard to express into power-form. Therefore we will consider that global linear iron losses will be of the form [*1*]:\n",
    "$P_{FE,l}= P_{e,l}+ P_{h,l} \\propto \\Delta p_{1/50}.f^{1.5}.B^2.d_{iron}.S_{iron}$\n",
    "\n",
    "Therefore, we will consider following parameter $\\pi_{0,3}$: $\\frac{P_{FE,l}}{\\Delta p_{1/50}.\\omega_{max}^{1.5}.B_R^2.d_{iron}.D_e^2}$\n",
    "\n",
    "Similar approach is conducted on joule losses dimensionless parameter $\\pi_{0,2}$ transformed to: $\\frac{P_{J,l}}{\\rho_{WIND}.D_e^2.J^2}$\n",
    "\n",
    "Another dimentional ratio should be added to the sensitivity analysis if eddy current is considered: $\\pi_8=\\frac{d}{D_e}$. Yet, considering for a motor range that iron laminate wont change, it can be omitted.\n",
    "\n",
    "*[1] J. F.Gieras. Permanent Magnet Technology. 2002*"
   ]
  },
  {
   "cell_type": "markdown",
   "metadata": {},
   "source": [
    "## 3 - Specialist optimized design with FEMM [§](#1)\n",
    "<a id=\"3\"></a>\n",
    "\n",
    "Let us consider that to cover a wide range of mobility application cases the specialist may address different range of values on 3 main performance criteria:\n",
    "* $D_e \\in [30,150]mm$, external motor diameter\n",
    "* $h \\in [24.22, 363]W/m^2/K$, stator convection coefficient\n",
    "* $\\omega_{max} \\in [2100, 8400]rpm$, motor maximum rotational speed\n",
    "\n",
    "Embeded system autonomy/efficiency is highly impact by embedded mass, therefore objective optimisation will be torque density.\n",
    "\n",
    "As designer as to deal with a lot of geometry ratios, we will try, even before constructing reponse surface on defined $\\pi_0$ parameters to limit the number of influence $\\pi$ parameters.\n",
    "\n",
    "To do so, we will process with a first step of generation of limited set of optimal motor to cover $D_e$-$h$-$\\omega_{max}$ design space and then analyse $\\pi$ impact on $\\pi_0$ performance parameters.\n",
    "\n",
    "Therefore, let us first construct a fullfactorial design space with 3-levels (to limit false linear correlation)."
   ]
  },
  {
   "cell_type": "code",
   "execution_count": 3,
   "metadata": {},
   "outputs": [
    {
     "data": {
      "text/plain": [
       "Text(0.5, 0, '$\\\\omega_{max}$')"
      ]
     },
     "execution_count": 3,
     "metadata": {},
     "output_type": "execute_result"
    },
    {
     "data": {
      "image/png": "[encoded data removed]",
      "text/plain": [
       "<Figure size 432x288 with 1 Axes>"
      ]
     },
     "metadata": {
      "needs_background": "light"
     },
     "output_type": "display_data"
    }
   ],
   "source": [
    "# Import DOE function and numpy/pandas library\n",
    "from pyDOE2 import lhs\n",
    "import numpy\n",
    "import pandas\n",
    "from mpl_toolkits.mplot3d import Axes3D\n",
    "import matplotlib.pyplot as plot\n",
    "\n",
    "# Calculate levels\n",
    "bounds = numpy.array([[30,150],[10,100],[750,3000]])\n",
    "doe_levels = lhs(3, samples=27, criterion='maximin', random_state=42)\n",
    "doe = bounds[:,0] + doe_levels / doe_levels.max(axis = 0) * (bounds[:, 1] - bounds[:, 0])\n",
    "\n",
    "# Show matrix\n",
    "doe_data = pandas.DataFrame(doe,columns=['d_e','h','omega_max'])\n",
    "doe_data.to_excel('./04_motor_example/output.xlsx')\n",
    "doe_data.head(n=numpy.shape(doe)[0])\n",
    "\n",
    "# Plot 3D figure\n",
    "fig = plot.figure()\n",
    "ax = fig.add_subplot(111,projection='3d')\n",
    "ax.scatter(doe[:,0], doe[:,1], doe[:,2])\n",
    "ax.set_xlabel('$D_e$')\n",
    "ax.set_ylabel('$h$')\n",
    "ax.set_zlabel('$\\omega_{max}$')"
   ]
  },
  {
   "cell_type": "markdown",
   "metadata": {},
   "source": [
    "Once this DOE has been constructed, geometries should be optimized to fullfill the 3 mentioned requirements.\n",
    "To do so, a specific code file **Massive_Torque.py** has been developped and could be implemented within an evolutionary optimization loop with multi-start capabilities.\n",
    "Calculation time for each $D_e$-$h$-$\\omega_{max}$ point can be very long, thus following script may not lead to final results exposed below within presentation duration."
   ]
  },
  {
   "cell_type": "code",
   "execution_count": null,
   "metadata": {},
   "outputs": [],
   "source": [
    "# Import optimizer and FEMM-python script (if accessible: only windows users)\n",
    "try:\n",
    "    import femm\n",
    "    from scipy.optimize import differential_evolution\n",
    "    import sys, os\n",
    "    sys.path.append(os.path.join(sys.path[0],'04_motor_example'))\n",
    "    from Massive_Torque import Couple_Mass\n",
    "\n",
    "    for idx in range(numpy.shape(doe)[0]):\n",
    "        SDe = doe[idx,0]\n",
    "        h = doe[idx,0]\n",
    "        omega = doe[idx,1]\n",
    "        Kde = SDe/62 # ratio with reference component\n",
    "        # Bounds = [D_i/2, e_tooth, e_yoke, Wpm, r_i, J]\n",
    "        lb=numpy.array([17.6*Kde, 2.8*Kde, 1*Kde, 1.5*Kde, 7.*Kde, 5])\n",
    "        ub=numpy.array([22*Kde, 5.5*Kde, 4*Kde, 4.95*Kde, 11.*Kde, 20])\n",
    "        N=6 # Number of Optimal Variable\n",
    "        bounds=[(0,1)]*N # Normalised bounds (between 0 and 1)\n",
    "        optimum=differential_evolution(Couple_Mass, bounds, args=(lb, ub, Kde, SDe, h, omega), popsize=5, tol=0.01, maxiter=20, disp=True)\n",
    "        print('Minimum found at: ', optimum.x*(ub-lb)+lb)\n",
    "        print('Minimum objective:', 1/(optimum.fun), 'N.m/kg')\n",
    "except:\n",
    "    print('pyfemm package not installed! Try command: pip install pyfemm (windows platform only) in addition to FEMM software installation.')"
   ]
  },
  {
   "cell_type": "markdown",
   "metadata": {},
   "source": [
    "> Note: to stop calculation process do Kernel\\Interrupt command."
   ]
  },
  {
   "cell_type": "markdown",
   "metadata": {},
   "source": [
    "## 4 - Analyse $\\pi$ sensitivity and dependency on reduced DOE [§](#1)\n",
    "<a id=\"4\"></a>\n",
    "To skip directly to sensitivity and dependency analysis saving time since work has already been done, we will load **saved_results.xls** file."
   ]
  },
  {
   "cell_type": "code",
   "execution_count": 4,
   "metadata": {},
   "outputs": [
    {
     "data": {
      "text/html": [
       "<div>\n",
       "<style scoped>\n",
       "    .dataframe tbody tr th:only-of-type {\n",
       "        vertical-align: middle;\n",
       "    }\n",
       "\n",
       "    .dataframe tbody tr th {\n",
       "        vertical-align: top;\n",
       "    }\n",
       "\n",
       "    .dataframe thead th {\n",
       "        text-align: right;\n",
       "    }\n",
       "</style>\n",
       "<table border=\"1\" class=\"dataframe\">\n",
       "  <thead>\n",
       "    <tr style=\"text-align: right;\">\n",
       "      <th></th>\n",
       "      <th>pi01</th>\n",
       "      <th>pi02</th>\n",
       "      <th>pi03</th>\n",
       "      <th>pi1</th>\n",
       "      <th>pi2</th>\n",
       "      <th>pi3</th>\n",
       "      <th>pi4</th>\n",
       "      <th>pi5</th>\n",
       "      <th>pi6</th>\n",
       "    </tr>\n",
       "  </thead>\n",
       "  <tbody>\n",
       "    <tr>\n",
       "      <th>0</th>\n",
       "      <td>0.004301</td>\n",
       "      <td>0.056312</td>\n",
       "      <td>0.237982</td>\n",
       "      <td>1.107965</td>\n",
       "      <td>0.350400</td>\n",
       "      <td>0.289153</td>\n",
       "      <td>0.160046</td>\n",
       "      <td>0.035867</td>\n",
       "      <td>0.272200</td>\n",
       "    </tr>\n",
       "    <tr>\n",
       "      <th>1</th>\n",
       "      <td>0.004281</td>\n",
       "      <td>0.057047</td>\n",
       "      <td>0.236587</td>\n",
       "      <td>1.099115</td>\n",
       "      <td>0.349733</td>\n",
       "      <td>0.284569</td>\n",
       "      <td>0.160046</td>\n",
       "      <td>0.033000</td>\n",
       "      <td>0.273333</td>\n",
       "    </tr>\n",
       "    <tr>\n",
       "      <th>2</th>\n",
       "      <td>0.004378</td>\n",
       "      <td>0.056628</td>\n",
       "      <td>0.244129</td>\n",
       "      <td>1.099115</td>\n",
       "      <td>0.338333</td>\n",
       "      <td>0.284569</td>\n",
       "      <td>0.156608</td>\n",
       "      <td>0.036333</td>\n",
       "      <td>0.259867</td>\n",
       "    </tr>\n",
       "    <tr>\n",
       "      <th>3</th>\n",
       "      <td>0.004592</td>\n",
       "      <td>0.061818</td>\n",
       "      <td>0.276087</td>\n",
       "      <td>1.594690</td>\n",
       "      <td>0.323133</td>\n",
       "      <td>0.307105</td>\n",
       "      <td>0.183346</td>\n",
       "      <td>0.064400</td>\n",
       "      <td>0.216533</td>\n",
       "    </tr>\n",
       "    <tr>\n",
       "      <th>4</th>\n",
       "      <td>0.004326</td>\n",
       "      <td>0.059516</td>\n",
       "      <td>0.238546</td>\n",
       "      <td>0.760177</td>\n",
       "      <td>0.357267</td>\n",
       "      <td>0.256303</td>\n",
       "      <td>0.132926</td>\n",
       "      <td>0.029200</td>\n",
       "      <td>0.288800</td>\n",
       "    </tr>\n",
       "  </tbody>\n",
       "</table>\n",
       "</div>"
      ],
      "text/plain": [
       "       pi01      pi02      pi03       pi1       pi2       pi3       pi4  \\\n",
       "0  0.004301  0.056312  0.237982  1.107965  0.350400  0.289153  0.160046   \n",
       "1  0.004281  0.057047  0.236587  1.099115  0.349733  0.284569  0.160046   \n",
       "2  0.004378  0.056628  0.244129  1.099115  0.338333  0.284569  0.156608   \n",
       "3  0.004592  0.061818  0.276087  1.594690  0.323133  0.307105  0.183346   \n",
       "4  0.004326  0.059516  0.238546  0.760177  0.357267  0.256303  0.132926   \n",
       "\n",
       "        pi5       pi6  \n",
       "0  0.035867  0.272200  \n",
       "1  0.033000  0.273333  \n",
       "2  0.036333  0.259867  \n",
       "3  0.064400  0.216533  \n",
       "4  0.029200  0.288800  "
      ]
     },
     "execution_count": 4,
     "metadata": {},
     "output_type": "execute_result"
    }
   ],
   "source": [
    "import pandas\n",
    "doe = pandas.read_excel('./04_motor_example/saved_results.xls')\n",
    "doe.head(n=5)"
   ]
  },
  {
   "cell_type": "code",
   "execution_count": 5,
   "metadata": {},
   "outputs": [],
   "source": [
    "# Import pyVPLM modules/functions\n",
    "from pyvplm.core.definition import PositiveParameter, PositiveParameterSet\n",
    "\n",
    "# Declare directly the pi_set problem\n",
    "doePI = doe[['pi01','pi02','pi03','pi1','pi2','pi3','pi4','pi5','pi6']].values\n",
    "pi1 = PositiveParameter('pi1',[0.1,1],'','t_l*b_r**-1*j**-1*d_e**-3')\n",
    "pi2 = PositiveParameter('pi2',[0.1,1],'','p_j*rho_win**-1*d_e**-2*j**-2')\n",
    "pi3 = PositiveParameter('pi3',[0.1,1],'','p_fe*delta_p**-1*omega_max**1.5*b_r**-2*d_iron**-1*d_e**-2')\n",
    "pi4 = PositiveParameter('pi4',[0.1,1],'','mu_0*j*d_e*b_r**-1')\n",
    "pi5 = PositiveParameter('pi5',[0.1,1],'','d_i*d_e**-1')\n",
    "pi6 = PositiveParameter('pi6',[0.1,1],'','e_tooth*d_e**-1*n')\n",
    "pi7 = PositiveParameter('pi7',[0.1,1],'','e_yoke*d_e**-1*n')\n",
    "pi8 = PositiveParameter('pi8',[0.1,1],'','w_pm*d_e**-1')\n",
    "pi9 = PositiveParameter('pi9',[0.1,1],'','r_i*d_e**-1')\n",
    "pi_set = PositiveParameterSet(pi1, pi2, pi3, pi4, pi5, pi6, pi7, pi8, pi9)"
   ]
  },
  {
   "cell_type": "code",
   "execution_count": 6,
   "metadata": {},
   "outputs": [],
   "source": [
    "import matplotlib as mpl\n",
    "mpl.rcParams.update(mpl.rcParamsDefault)"
   ]
  },
  {
   "cell_type": "code",
   "execution_count": 7,
   "metadata": {},
   "outputs": [
    {
     "data": {
      "application/vnd.jupyter.widget-view+json": {
       "model_id": "73fdb3b0f1e445c794bd77ad8a0bce67",
       "version_major": 2,
       "version_minor": 0
      },
      "text/plain": [
       "VBox(children=(Tab(children=(HBox(children=(Checkbox(value=True, description='$\\\\pi_{1}$', layout=Layout(width…"
      ]
     },
     "metadata": {},
     "output_type": "display_data"
    },
    {
     "data": {
      "image/png": "[encoded data removed]",
      "text/plain": [
       "<Figure size 1152x504 with 8 Axes>"
      ]
     },
     "metadata": {
      "needs_background": "light"
     },
     "output_type": "display_data"
    }
   ],
   "source": [
    "# Change matplotlib visualisation parameter\n",
    "%matplotlib inline\n",
    "\n",
    "# Import Sizing Lab modules\n",
    "from pyvplm.addon.variablepowerlaw import pi_sensitivity\n",
    "\n",
    "# Perform sensitivity analysis\n",
    "pi_sensitivity(pi_set, doePI, use_widgets=True)"
   ]
  },
  {
   "cell_type": "markdown",
   "metadata": {},
   "source": [
    "> Note: parameters $\\pi_4$, $\\pi_7$ should be kept for $\\pi_0$ model regression and DOE generation."
   ]
  },
  {
   "cell_type": "code",
   "execution_count": 8,
   "metadata": {},
   "outputs": [
    {
     "ename": "ValueError",
     "evalue": "Number of rows must be a positive integer, not 0",
     "output_type": "error",
     "traceback": [
      "\u001b[1;31m---------------------------------------------------------------------------\u001b[0m",
      "\u001b[1;31mValueError\u001b[0m                                Traceback (most recent call last)",
      "\u001b[1;32m~\\AppData\\Local\\Temp/ipykernel_14980/408700124.py\u001b[0m in \u001b[0;36m<module>\u001b[1;34m\u001b[0m\n\u001b[0;32m      6\u001b[0m \u001b[1;33m\u001b[0m\u001b[0m\n\u001b[0;32m      7\u001b[0m \u001b[1;31m# Perform dependency analysis\u001b[0m\u001b[1;33m\u001b[0m\u001b[1;33m\u001b[0m\u001b[0m\n\u001b[1;32m----> 8\u001b[1;33m \u001b[0mpi_dependency\u001b[0m\u001b[1;33m(\u001b[0m\u001b[0mpi_set\u001b[0m\u001b[1;33m,\u001b[0m \u001b[0mdoePI\u001b[0m\u001b[1;33m,\u001b[0m \u001b[0museWidgets\u001b[0m\u001b[1;33m=\u001b[0m\u001b[1;32mTrue\u001b[0m\u001b[1;33m)\u001b[0m\u001b[1;33m\u001b[0m\u001b[1;33m\u001b[0m\u001b[0m\n\u001b[0m",
      "\u001b[1;32m~\\Anaconda3\\lib\\site-packages\\pyvplm\\addon\\variablepowerlaw.py\u001b[0m in \u001b[0;36mpi_dependency\u001b[1;34m(pi_set, doe_pi, useWidgets, **kwargs)\u001b[0m\n\u001b[0;32m   2859\u001b[0m             \u001b[1;32melse\u001b[0m\u001b[1;33m:\u001b[0m\u001b[1;33m\u001b[0m\u001b[1;33m\u001b[0m\u001b[0m\n\u001b[0;32m   2860\u001b[0m                 \u001b[0my_list\u001b[0m \u001b[1;33m=\u001b[0m \u001b[0mpi_list\u001b[0m\u001b[1;33m\u001b[0m\u001b[1;33m\u001b[0m\u001b[0m\n\u001b[1;32m-> 2861\u001b[1;33m             _, _, _, plot = pi_dependency_sub(\n\u001b[0m\u001b[0;32m   2862\u001b[0m                 \u001b[0mpi_set\u001b[0m\u001b[1;33m,\u001b[0m \u001b[0mdoe_pi\u001b[0m\u001b[1;33m,\u001b[0m \u001b[0morder\u001b[0m\u001b[1;33m=\u001b[0m\u001b[1;36m2\u001b[0m\u001b[1;33m,\u001b[0m \u001b[0mthreshold\u001b[0m\u001b[1;33m=\u001b[0m\u001b[1;36m0.9\u001b[0m\u001b[1;33m,\u001b[0m \u001b[0mfigwidth\u001b[0m\u001b[1;33m=\u001b[0m\u001b[1;36m16\u001b[0m\u001b[1;33m,\u001b[0m \u001b[0mx_list\u001b[0m\u001b[1;33m=\u001b[0m\u001b[0mx_list_\u001b[0m\u001b[1;33m,\u001b[0m \u001b[0my_list\u001b[0m\u001b[1;33m=\u001b[0m\u001b[0my_list_\u001b[0m\u001b[1;33m\u001b[0m\u001b[1;33m\u001b[0m\u001b[0m\n\u001b[0;32m   2863\u001b[0m             )\n",
      "\u001b[1;32m~\\Anaconda3\\lib\\site-packages\\pyvplm\\addon\\variablepowerlaw.py\u001b[0m in \u001b[0;36mpi_dependency_sub\u001b[1;34m(pi_set, doe_pi, **kwargs)\u001b[0m\n\u001b[0;32m   3048\u001b[0m         \u001b[0mcoeff_matrix\u001b[0m \u001b[1;33m=\u001b[0m \u001b[0mnumpy\u001b[0m\u001b[1;33m.\u001b[0m\u001b[0mzeros\u001b[0m\u001b[1;33m(\u001b[0m\u001b[1;33m(\u001b[0m\u001b[0mlen\u001b[0m\u001b[1;33m(\u001b[0m\u001b[0my_list\u001b[0m\u001b[1;33m)\u001b[0m\u001b[1;33m,\u001b[0m \u001b[0mlen\u001b[0m\u001b[1;33m(\u001b[0m\u001b[0mx_list\u001b[0m\u001b[1;33m)\u001b[0m\u001b[1;33m)\u001b[0m\u001b[1;33m,\u001b[0m \u001b[0mdtype\u001b[0m\u001b[1;33m=\u001b[0m\u001b[1;33m(\u001b[0m\u001b[0mfloat\u001b[0m\u001b[1;33m,\u001b[0m \u001b[0morder\u001b[0m \u001b[1;33m+\u001b[0m \u001b[1;36m1\u001b[0m\u001b[1;33m)\u001b[0m\u001b[1;33m)\u001b[0m\u001b[1;33m\u001b[0m\u001b[1;33m\u001b[0m\u001b[0m\n\u001b[0;32m   3049\u001b[0m         \u001b[1;31m# noinspection PyTypeChecker\u001b[0m\u001b[1;33m\u001b[0m\u001b[1;33m\u001b[0m\u001b[0m\n\u001b[1;32m-> 3050\u001b[1;33m         fig, axes = plot.subplots(\n\u001b[0m\u001b[0;32m   3051\u001b[0m             \u001b[0mnrows\u001b[0m\u001b[1;33m=\u001b[0m\u001b[0mlen\u001b[0m\u001b[1;33m(\u001b[0m\u001b[0my_list\u001b[0m\u001b[1;33m)\u001b[0m\u001b[1;33m,\u001b[0m \u001b[0mncols\u001b[0m\u001b[1;33m=\u001b[0m\u001b[0mlen\u001b[0m\u001b[1;33m(\u001b[0m\u001b[0mx_list\u001b[0m\u001b[1;33m)\u001b[0m\u001b[1;33m,\u001b[0m \u001b[0msharex\u001b[0m\u001b[1;33m=\u001b[0m\u001b[1;32mFalse\u001b[0m\u001b[1;33m,\u001b[0m \u001b[0msharey\u001b[0m\u001b[1;33m=\u001b[0m\u001b[1;32mFalse\u001b[0m\u001b[1;33m,\u001b[0m \u001b[0msqueeze\u001b[0m\u001b[1;33m=\u001b[0m\u001b[1;32mFalse\u001b[0m\u001b[1;33m\u001b[0m\u001b[1;33m\u001b[0m\u001b[0m\n\u001b[0;32m   3052\u001b[0m         )\n",
      "\u001b[1;32m~\\Anaconda3\\lib\\site-packages\\matplotlib\\_api\\deprecation.py\u001b[0m in \u001b[0;36mwrapper\u001b[1;34m(*args, **kwargs)\u001b[0m\n\u001b[0;32m    469\u001b[0m                 \u001b[1;34m\"parameter will become keyword-only %(removal)s.\"\u001b[0m\u001b[1;33m,\u001b[0m\u001b[1;33m\u001b[0m\u001b[1;33m\u001b[0m\u001b[0m\n\u001b[0;32m    470\u001b[0m                 name=name, obj_type=f\"parameter of {func.__name__}()\")\n\u001b[1;32m--> 471\u001b[1;33m         \u001b[1;32mreturn\u001b[0m \u001b[0mfunc\u001b[0m\u001b[1;33m(\u001b[0m\u001b[1;33m*\u001b[0m\u001b[0margs\u001b[0m\u001b[1;33m,\u001b[0m \u001b[1;33m**\u001b[0m\u001b[0mkwargs\u001b[0m\u001b[1;33m)\u001b[0m\u001b[1;33m\u001b[0m\u001b[1;33m\u001b[0m\u001b[0m\n\u001b[0m\u001b[0;32m    472\u001b[0m \u001b[1;33m\u001b[0m\u001b[0m\n\u001b[0;32m    473\u001b[0m     \u001b[1;32mreturn\u001b[0m \u001b[0mwrapper\u001b[0m\u001b[1;33m\u001b[0m\u001b[1;33m\u001b[0m\u001b[0m\n",
      "\u001b[1;32m~\\Anaconda3\\lib\\site-packages\\matplotlib\\pyplot.py\u001b[0m in \u001b[0;36msubplots\u001b[1;34m(nrows, ncols, sharex, sharey, squeeze, subplot_kw, gridspec_kw, **fig_kw)\u001b[0m\n\u001b[0;32m   1438\u001b[0m     \"\"\"\n\u001b[0;32m   1439\u001b[0m     \u001b[0mfig\u001b[0m \u001b[1;33m=\u001b[0m \u001b[0mfigure\u001b[0m\u001b[1;33m(\u001b[0m\u001b[1;33m**\u001b[0m\u001b[0mfig_kw\u001b[0m\u001b[1;33m)\u001b[0m\u001b[1;33m\u001b[0m\u001b[1;33m\u001b[0m\u001b[0m\n\u001b[1;32m-> 1440\u001b[1;33m     axs = fig.subplots(nrows=nrows, ncols=ncols, sharex=sharex, sharey=sharey,\n\u001b[0m\u001b[0;32m   1441\u001b[0m                        \u001b[0msqueeze\u001b[0m\u001b[1;33m=\u001b[0m\u001b[0msqueeze\u001b[0m\u001b[1;33m,\u001b[0m \u001b[0msubplot_kw\u001b[0m\u001b[1;33m=\u001b[0m\u001b[0msubplot_kw\u001b[0m\u001b[1;33m,\u001b[0m\u001b[1;33m\u001b[0m\u001b[1;33m\u001b[0m\u001b[0m\n\u001b[0;32m   1442\u001b[0m                        gridspec_kw=gridspec_kw)\n",
      "\u001b[1;32m~\\Anaconda3\\lib\\site-packages\\matplotlib\\_api\\deprecation.py\u001b[0m in \u001b[0;36mwrapper\u001b[1;34m(*args, **kwargs)\u001b[0m\n\u001b[0;32m    469\u001b[0m                 \u001b[1;34m\"parameter will become keyword-only %(removal)s.\"\u001b[0m\u001b[1;33m,\u001b[0m\u001b[1;33m\u001b[0m\u001b[1;33m\u001b[0m\u001b[0m\n\u001b[0;32m    470\u001b[0m                 name=name, obj_type=f\"parameter of {func.__name__}()\")\n\u001b[1;32m--> 471\u001b[1;33m         \u001b[1;32mreturn\u001b[0m \u001b[0mfunc\u001b[0m\u001b[1;33m(\u001b[0m\u001b[1;33m*\u001b[0m\u001b[0margs\u001b[0m\u001b[1;33m,\u001b[0m \u001b[1;33m**\u001b[0m\u001b[0mkwargs\u001b[0m\u001b[1;33m)\u001b[0m\u001b[1;33m\u001b[0m\u001b[1;33m\u001b[0m\u001b[0m\n\u001b[0m\u001b[0;32m    472\u001b[0m \u001b[1;33m\u001b[0m\u001b[0m\n\u001b[0;32m    473\u001b[0m     \u001b[1;32mreturn\u001b[0m \u001b[0mwrapper\u001b[0m\u001b[1;33m\u001b[0m\u001b[1;33m\u001b[0m\u001b[0m\n",
      "\u001b[1;32m~\\Anaconda3\\lib\\site-packages\\matplotlib\\figure.py\u001b[0m in \u001b[0;36msubplots\u001b[1;34m(self, nrows, ncols, sharex, sharey, squeeze, subplot_kw, gridspec_kw)\u001b[0m\n\u001b[0;32m    908\u001b[0m         \u001b[1;32mif\u001b[0m \u001b[0mgridspec_kw\u001b[0m \u001b[1;32mis\u001b[0m \u001b[1;32mNone\u001b[0m\u001b[1;33m:\u001b[0m\u001b[1;33m\u001b[0m\u001b[1;33m\u001b[0m\u001b[0m\n\u001b[0;32m    909\u001b[0m             \u001b[0mgridspec_kw\u001b[0m \u001b[1;33m=\u001b[0m \u001b[1;33m{\u001b[0m\u001b[1;33m}\u001b[0m\u001b[1;33m\u001b[0m\u001b[1;33m\u001b[0m\u001b[0m\n\u001b[1;32m--> 910\u001b[1;33m         \u001b[0mgs\u001b[0m \u001b[1;33m=\u001b[0m \u001b[0mself\u001b[0m\u001b[1;33m.\u001b[0m\u001b[0madd_gridspec\u001b[0m\u001b[1;33m(\u001b[0m\u001b[0mnrows\u001b[0m\u001b[1;33m,\u001b[0m \u001b[0mncols\u001b[0m\u001b[1;33m,\u001b[0m \u001b[0mfigure\u001b[0m\u001b[1;33m=\u001b[0m\u001b[0mself\u001b[0m\u001b[1;33m,\u001b[0m \u001b[1;33m**\u001b[0m\u001b[0mgridspec_kw\u001b[0m\u001b[1;33m)\u001b[0m\u001b[1;33m\u001b[0m\u001b[1;33m\u001b[0m\u001b[0m\n\u001b[0m\u001b[0;32m    911\u001b[0m         axs = gs.subplots(sharex=sharex, sharey=sharey, squeeze=squeeze,\n\u001b[0;32m    912\u001b[0m                           subplot_kw=subplot_kw)\n",
      "\u001b[1;32m~\\Anaconda3\\lib\\site-packages\\matplotlib\\figure.py\u001b[0m in \u001b[0;36madd_gridspec\u001b[1;34m(self, nrows, ncols, **kwargs)\u001b[0m\n\u001b[0;32m   1406\u001b[0m \u001b[1;33m\u001b[0m\u001b[0m\n\u001b[0;32m   1407\u001b[0m         \u001b[0m_\u001b[0m \u001b[1;33m=\u001b[0m \u001b[0mkwargs\u001b[0m\u001b[1;33m.\u001b[0m\u001b[0mpop\u001b[0m\u001b[1;33m(\u001b[0m\u001b[1;34m'figure'\u001b[0m\u001b[1;33m,\u001b[0m \u001b[1;32mNone\u001b[0m\u001b[1;33m)\u001b[0m  \u001b[1;31m# pop in case user has added this...\u001b[0m\u001b[1;33m\u001b[0m\u001b[1;33m\u001b[0m\u001b[0m\n\u001b[1;32m-> 1408\u001b[1;33m         \u001b[0mgs\u001b[0m \u001b[1;33m=\u001b[0m \u001b[0mGridSpec\u001b[0m\u001b[1;33m(\u001b[0m\u001b[0mnrows\u001b[0m\u001b[1;33m=\u001b[0m\u001b[0mnrows\u001b[0m\u001b[1;33m,\u001b[0m \u001b[0mncols\u001b[0m\u001b[1;33m=\u001b[0m\u001b[0mncols\u001b[0m\u001b[1;33m,\u001b[0m \u001b[0mfigure\u001b[0m\u001b[1;33m=\u001b[0m\u001b[0mself\u001b[0m\u001b[1;33m,\u001b[0m \u001b[1;33m**\u001b[0m\u001b[0mkwargs\u001b[0m\u001b[1;33m)\u001b[0m\u001b[1;33m\u001b[0m\u001b[1;33m\u001b[0m\u001b[0m\n\u001b[0m\u001b[0;32m   1409\u001b[0m         \u001b[0mself\u001b[0m\u001b[1;33m.\u001b[0m\u001b[0m_gridspecs\u001b[0m\u001b[1;33m.\u001b[0m\u001b[0mappend\u001b[0m\u001b[1;33m(\u001b[0m\u001b[0mgs\u001b[0m\u001b[1;33m)\u001b[0m\u001b[1;33m\u001b[0m\u001b[1;33m\u001b[0m\u001b[0m\n\u001b[0;32m   1410\u001b[0m         \u001b[1;32mreturn\u001b[0m \u001b[0mgs\u001b[0m\u001b[1;33m\u001b[0m\u001b[1;33m\u001b[0m\u001b[0m\n",
      "\u001b[1;32m~\\Anaconda3\\lib\\site-packages\\matplotlib\\gridspec.py\u001b[0m in \u001b[0;36m__init__\u001b[1;34m(self, nrows, ncols, figure, left, bottom, right, top, wspace, hspace, width_ratios, height_ratios)\u001b[0m\n\u001b[0;32m    395\u001b[0m         \u001b[0mself\u001b[0m\u001b[1;33m.\u001b[0m\u001b[0mfigure\u001b[0m \u001b[1;33m=\u001b[0m \u001b[0mfigure\u001b[0m\u001b[1;33m\u001b[0m\u001b[1;33m\u001b[0m\u001b[0m\n\u001b[0;32m    396\u001b[0m \u001b[1;33m\u001b[0m\u001b[0m\n\u001b[1;32m--> 397\u001b[1;33m         super().__init__(nrows, ncols,\n\u001b[0m\u001b[0;32m    398\u001b[0m                          \u001b[0mwidth_ratios\u001b[0m\u001b[1;33m=\u001b[0m\u001b[0mwidth_ratios\u001b[0m\u001b[1;33m,\u001b[0m\u001b[1;33m\u001b[0m\u001b[1;33m\u001b[0m\u001b[0m\n\u001b[0;32m    399\u001b[0m                          height_ratios=height_ratios)\n",
      "\u001b[1;32m~\\Anaconda3\\lib\\site-packages\\matplotlib\\gridspec.py\u001b[0m in \u001b[0;36m__init__\u001b[1;34m(self, nrows, ncols, height_ratios, width_ratios)\u001b[0m\n\u001b[0;32m     47\u001b[0m         \"\"\"\n\u001b[0;32m     48\u001b[0m         \u001b[1;32mif\u001b[0m \u001b[1;32mnot\u001b[0m \u001b[0misinstance\u001b[0m\u001b[1;33m(\u001b[0m\u001b[0mnrows\u001b[0m\u001b[1;33m,\u001b[0m \u001b[0mIntegral\u001b[0m\u001b[1;33m)\u001b[0m \u001b[1;32mor\u001b[0m \u001b[0mnrows\u001b[0m \u001b[1;33m<=\u001b[0m \u001b[1;36m0\u001b[0m\u001b[1;33m:\u001b[0m\u001b[1;33m\u001b[0m\u001b[1;33m\u001b[0m\u001b[0m\n\u001b[1;32m---> 49\u001b[1;33m             raise ValueError(\n\u001b[0m\u001b[0;32m     50\u001b[0m                 f\"Number of rows must be a positive integer, not {nrows}\")\n\u001b[0;32m     51\u001b[0m         \u001b[1;32mif\u001b[0m \u001b[1;32mnot\u001b[0m \u001b[0misinstance\u001b[0m\u001b[1;33m(\u001b[0m\u001b[0mncols\u001b[0m\u001b[1;33m,\u001b[0m \u001b[0mIntegral\u001b[0m\u001b[1;33m)\u001b[0m \u001b[1;32mor\u001b[0m \u001b[0mncols\u001b[0m \u001b[1;33m<=\u001b[0m \u001b[1;36m0\u001b[0m\u001b[1;33m:\u001b[0m\u001b[1;33m\u001b[0m\u001b[1;33m\u001b[0m\u001b[0m\n",
      "\u001b[1;31mValueError\u001b[0m: Number of rows must be a positive integer, not 0"
     ]
    },
    {
     "data": {
      "text/plain": [
       "<Figure size 432x288 with 0 Axes>"
      ]
     },
     "metadata": {},
     "output_type": "display_data"
    }
   ],
   "source": [
    "# Change matplotlib visualisation parameter\n",
    "%matplotlib inline\n",
    "\n",
    "# Import Sizing Lab modules\n",
    "from pyvplm.addon.variablepowerlaw import pi_dependency\n",
    "\n",
    "# Perform dependency analysis\n",
    "pi_dependency(pi_set, doePI, useWidgets=True)"
   ]
  },
  {
   "cell_type": "markdown",
   "metadata": {},
   "source": [
    "> Remark (order 1-3): $\\pi_8$ is lightly correlated to $\\pi_4$ but we can considerate all remaining parameters constant."
   ]
  }
 ],
 "metadata": {
  "celltoolbar": "Slideshow",
  "kernelspec": {
   "display_name": "Python 3 (ipykernel)",
   "language": "python",
   "name": "python3"
  },
  "language_info": {
   "codemirror_mode": {
    "name": "ipython",
    "version": 3
   },
   "file_extension": ".py",
   "mimetype": "text/x-python",
   "name": "python",
   "nbconvert_exporter": "python",
   "pygments_lexer": "ipython3",
   "version": "3.9.7"
  }
 },
 "nbformat": 4,
 "nbformat_minor": 2
}
